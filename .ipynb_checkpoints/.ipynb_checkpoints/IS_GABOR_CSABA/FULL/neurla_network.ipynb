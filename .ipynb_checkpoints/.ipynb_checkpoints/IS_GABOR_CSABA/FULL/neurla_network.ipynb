{
 "cells": [
  {
   "cell_type": "code",
   "execution_count": 1,
   "metadata": {},
   "outputs": [],
   "source": [
    "import numpy as np\n",
    "import pandas as pd\n",
    "import matplotlib.pyplot as plt\n",
    "import seaborn as sns\n",
    "pd.options.mode.chained_assignment = None\n",
    "from sklearn.model_selection import train_test_split\n",
    "from sklearn.preprocessing import LabelEncoder, OneHotEncoder\n",
    "from sklearn.metrics import mean_squared_error\n",
    "from sklearn.metrics import mean_absolute_error\n",
    "from sklearn.metrics import accuracy_score\n",
    "from sklearn.preprocessing import LabelEncoder\n",
    "from sklearn.preprocessing import OneHotEncoder\n",
    "from sklearn.compose import ColumnTransformer\n",
    "from sklearn.model_selection import KFold\n",
    "from sklearn.preprocessing import MinMaxScaler\n",
    "from sklearn.model_selection import cross_val_score\n",
    "from sklearn.preprocessing import StandardScaler\n",
    "from sklearn.ensemble import RandomForestClassifier\n",
    "from sklearn.metrics import confusion_matrix\n",
    "from sklearn.metrics import recall_score\n",
    "from sklearn.metrics import precision_score\n",
    "import warnings\n",
    "warnings.filterwarnings('ignore')"
   ]
  },
  {
   "cell_type": "code",
   "execution_count": 2,
   "metadata": {},
   "outputs": [
    {
     "data": {
      "text/html": [
       "<div>\n",
       "<style scoped>\n",
       "    .dataframe tbody tr th:only-of-type {\n",
       "        vertical-align: middle;\n",
       "    }\n",
       "\n",
       "    .dataframe tbody tr th {\n",
       "        vertical-align: top;\n",
       "    }\n",
       "\n",
       "    .dataframe thead th {\n",
       "        text-align: right;\n",
       "    }\n",
       "</style>\n",
       "<table border=\"1\" class=\"dataframe\">\n",
       "  <thead>\n",
       "    <tr style=\"text-align: right;\">\n",
       "      <th></th>\n",
       "      <th>Unnamed: 0</th>\n",
       "      <th>Unnamed: 0.1</th>\n",
       "      <th>name</th>\n",
       "      <th>ga_first_name</th>\n",
       "      <th>ga_gender</th>\n",
       "      <th>ga_accuracy</th>\n",
       "      <th>ga_samples</th>\n",
       "    </tr>\n",
       "  </thead>\n",
       "  <tbody>\n",
       "    <tr>\n",
       "      <th>0</th>\n",
       "      <td>0</td>\n",
       "      <td>0</td>\n",
       "      <td>abel</td>\n",
       "      <td>Abel</td>\n",
       "      <td>male</td>\n",
       "      <td>98.0</td>\n",
       "      <td>11473.0</td>\n",
       "    </tr>\n",
       "    <tr>\n",
       "      <th>1</th>\n",
       "      <td>1</td>\n",
       "      <td>1</td>\n",
       "      <td>achim</td>\n",
       "      <td>Achim</td>\n",
       "      <td>male</td>\n",
       "      <td>99.0</td>\n",
       "      <td>2035.0</td>\n",
       "    </tr>\n",
       "    <tr>\n",
       "      <th>2</th>\n",
       "      <td>2</td>\n",
       "      <td>2</td>\n",
       "      <td>ada</td>\n",
       "      <td>Ada</td>\n",
       "      <td>female</td>\n",
       "      <td>85.0</td>\n",
       "      <td>10634.0</td>\n",
       "    </tr>\n",
       "    <tr>\n",
       "      <th>3</th>\n",
       "      <td>3</td>\n",
       "      <td>3</td>\n",
       "      <td>adalbert</td>\n",
       "      <td>Adalbert</td>\n",
       "      <td>male</td>\n",
       "      <td>96.0</td>\n",
       "      <td>220.0</td>\n",
       "    </tr>\n",
       "    <tr>\n",
       "      <th>4</th>\n",
       "      <td>4</td>\n",
       "      <td>4</td>\n",
       "      <td>adam</td>\n",
       "      <td>Adam</td>\n",
       "      <td>male</td>\n",
       "      <td>99.0</td>\n",
       "      <td>101742.0</td>\n",
       "    </tr>\n",
       "  </tbody>\n",
       "</table>\n",
       "</div>"
      ],
      "text/plain": [
       "   Unnamed: 0  Unnamed: 0.1      name ga_first_name ga_gender  ga_accuracy  \\\n",
       "0           0             0      abel          Abel      male         98.0   \n",
       "1           1             1     achim         Achim      male         99.0   \n",
       "2           2             2       ada           Ada    female         85.0   \n",
       "3           3             3  adalbert      Adalbert      male         96.0   \n",
       "4           4             4      adam          Adam      male         99.0   \n",
       "\n",
       "   ga_samples  \n",
       "0     11473.0  \n",
       "1      2035.0  \n",
       "2     10634.0  \n",
       "3       220.0  \n",
       "4    101742.0  "
      ]
     },
     "execution_count": 2,
     "metadata": {},
     "output_type": "execute_result"
    }
   ],
   "source": [
    "#I have used a free api to get the gender information for every name\n",
    "#there were 25 names where the api couldn't guess the gender, I completed those values myself\n",
    "firstName_gender = pd.read_csv('all_names_gender.csv')\n",
    "firstName_gender.head()"
   ]
  },
  {
   "cell_type": "code",
   "execution_count": 3,
   "metadata": {},
   "outputs": [],
   "source": [
    "#same feature engineering except that a gender column is added to our dataset\n",
    "\n",
    "df = pd.read_csv('note.csv')\n",
    "df = df.reset_index()\n",
    "\n",
    "\n",
    "Y = df[['rezultatul final']]\n",
    "\n",
    "X = df[['nume','media teze nationale', 'nota la limba romana','judet8','scoala','media de absolvire','nota la matematica',\n",
    "       'optional8 nota','limba materna8','promotie anterioara','specializare','limba moderna','disciplina profil','optional'\n",
    "       ,'unitatea de invatamant', 'forma invatamant','judetul']]\n",
    "\n",
    "\n",
    "\n",
    "def firstname(name):\n",
    "    fullname_list = name.split(\" \")\n",
    "    return fullname_list[len(fullname_list)-1]\n",
    "\n",
    "X['nume'] = X['nume'].apply(firstname)\n",
    "\n",
    "\n",
    "#add gender \n",
    "genders = []\n",
    "\n",
    "for ind, name in enumerate(X['nume']):\n",
    "    all_first_names = name.split('-')\n",
    "    male = 0\n",
    "    female = 0\n",
    "    \n",
    "    for first in all_first_names:\n",
    "        if not firstName_gender[firstName_gender['name'] == first]['ga_gender'].empty:\n",
    "            gender = firstName_gender[firstName_gender['name'] == first]['ga_gender'].values[0]\n",
    "            if gender == 'male':\n",
    "                male +=1\n",
    "            else:\n",
    "                female +=1\n",
    "        \n",
    "    if male > female:\n",
    "        genders.append(0)\n",
    "    else:\n",
    "        genders.append(1)\n",
    "        \n",
    "\n",
    "names = X['nume'].str.get_dummies(sep='-').add_prefix('nume_')\n",
    "#names.head()\n",
    "\n",
    "X = pd.concat([X, names], axis = 1)\n",
    "\n",
    "#drop the old name column\n",
    "X = X.drop('nume', axis=1)\n"
   ]
  },
  {
   "cell_type": "code",
   "execution_count": 4,
   "metadata": {},
   "outputs": [
    {
     "data": {
      "text/html": [
       "<div>\n",
       "<style scoped>\n",
       "    .dataframe tbody tr th:only-of-type {\n",
       "        vertical-align: middle;\n",
       "    }\n",
       "\n",
       "    .dataframe tbody tr th {\n",
       "        vertical-align: top;\n",
       "    }\n",
       "\n",
       "    .dataframe thead th {\n",
       "        text-align: right;\n",
       "    }\n",
       "</style>\n",
       "<table border=\"1\" class=\"dataframe\">\n",
       "  <thead>\n",
       "    <tr style=\"text-align: right;\">\n",
       "      <th></th>\n",
       "      <th>rezultatul final</th>\n",
       "    </tr>\n",
       "  </thead>\n",
       "  <tbody>\n",
       "    <tr>\n",
       "      <th>0</th>\n",
       "      <td>0</td>\n",
       "    </tr>\n",
       "    <tr>\n",
       "      <th>1</th>\n",
       "      <td>0</td>\n",
       "    </tr>\n",
       "    <tr>\n",
       "      <th>2</th>\n",
       "      <td>0</td>\n",
       "    </tr>\n",
       "    <tr>\n",
       "      <th>3</th>\n",
       "      <td>0</td>\n",
       "    </tr>\n",
       "    <tr>\n",
       "      <th>4</th>\n",
       "      <td>0</td>\n",
       "    </tr>\n",
       "  </tbody>\n",
       "</table>\n",
       "</div>"
      ],
      "text/plain": [
       "   rezultatul final\n",
       "0                 0\n",
       "1                 0\n",
       "2                 0\n",
       "3                 0\n",
       "4                 0"
      ]
     },
     "execution_count": 4,
     "metadata": {},
     "output_type": "execute_result"
    }
   ],
   "source": [
    "#scale, normalize data so it can be used for several algorithms\n",
    "\n",
    "number_columns = []\n",
    "for col in X.columns:\n",
    "    if X[col].dtype != 'object' and 'nume' not in col:\n",
    "        number_columns.append(col)\n",
    "        X[col] = X[col].astype(float)\n",
    "\n",
    "#print number_columns\n",
    "\n",
    "scaler = StandardScaler()\n",
    "\n",
    "X_scale = X.copy()\n",
    "X_scale[number_columns] = scaler.fit_transform(X[number_columns])\n",
    "X_scale.head()\n",
    "\n",
    "\n",
    "categorical_features = []\n",
    "categorical_features_indices = []\n",
    "for i,c in enumerate(X.columns):\n",
    "        if X[c].dtype == 'object':\n",
    "            categorical_features.append(c)\n",
    "            categorical_features_indices.append(i)      \n",
    "#print categorical_features\n",
    "\n",
    "X_dummy = pd.get_dummies(X_scale, columns=categorical_features)\n",
    "\n",
    "X_dummy['gender'] = genders\n",
    "\n",
    "\n",
    "for i,c in enumerate(Y.columns):\n",
    "        if Y[c].dtype == 'object':\n",
    "            lbl = LabelEncoder()\n",
    "            lbl.fit(list(Y[c].values))\n",
    "            Y[c] = lbl.transform(list(Y[c].values)) \n",
    "Y.head()"
   ]
  },
  {
   "cell_type": "code",
   "execution_count": 5,
   "metadata": {},
   "outputs": [],
   "source": [
    "#split\n",
    "X_train, X_test, Y_train, Y_test = train_test_split(X_dummy, Y, test_size=0.20, random_state = 40) #same seed to compare results"
   ]
  },
  {
   "cell_type": "code",
   "execution_count": 6,
   "metadata": {},
   "outputs": [
    {
     "data": {
      "text/plain": [
       "MLPClassifier(activation='relu', alpha=0.0001, batch_size='auto', beta_1=0.9,\n",
       "       beta_2=0.999, early_stopping=False, epsilon=1e-08,\n",
       "       hidden_layer_sizes=(10, 10, 10), learning_rate='constant',\n",
       "       learning_rate_init=0.001, max_iter=100, momentum=0.9,\n",
       "       n_iter_no_change=10, nesterovs_momentum=True, power_t=0.5,\n",
       "       random_state=None, shuffle=True, solver='adam', tol=0.0001,\n",
       "       validation_fraction=0.1, verbose=False, warm_start=False)"
      ]
     },
     "execution_count": 6,
     "metadata": {},
     "output_type": "execute_result"
    }
   ],
   "source": [
    "#try neural network\n",
    "#this takes so much time compared to random forest.....\n",
    "from sklearn.neural_network import MLPClassifier  \n",
    "mlp = MLPClassifier(hidden_layer_sizes=(10, 10, 10), max_iter=100)  \n",
    "mlp.fit(X_train, Y_train.values.ravel())  "
   ]
  },
  {
   "cell_type": "code",
   "execution_count": 8,
   "metadata": {},
   "outputs": [
    {
     "name": "stdout",
     "output_type": "stream",
     "text": [
      "0.7923875432525952\n",
      "[[ 505  201]\n",
      " [ 219 1098]]\n",
      "0.7713897005346229\n",
      "0.7745052172397995\n"
     ]
    }
   ],
   "source": [
    "Y_pred = mlp.predict(X_test)\n",
    "print accuracy_score(Y_pred, Y_test)\n",
    "\n",
    "print confusion_matrix(Y_test, Y_pred)\n",
    "\n",
    "print precision_score(Y_test, Y_pred, average='macro') \n",
    "print recall_score(Y_test, Y_pred, average='macro')"
   ]
  },
  {
   "cell_type": "code",
   "execution_count": 13,
   "metadata": {},
   "outputs": [
    {
     "name": "stdout",
     "output_type": "stream",
     "text": [
      "0.8388531883341572\n",
      "[[ 535  171]\n",
      " [ 155 1162]]\n",
      "0.8235401241614752\n",
      "0.8200493223288399\n"
     ]
    }
   ],
   "source": [
    "model = RandomForestClassifier(n_jobs=-1, n_estimators=100)\n",
    "model.fit(X_train, Y_train)\n",
    "Y_pred = model.predict(X_test)\n",
    "print accuracy_score(Y_pred, Y_test)\n",
    "\n",
    "print confusion_matrix(Y_test, Y_pred)\n",
    "\n",
    "print precision_score(Y_test, Y_pred, average='macro') \n",
    "print recall_score(Y_test, Y_pred, average='macro')"
   ]
  },
  {
   "cell_type": "code",
   "execution_count": 22,
   "metadata": {},
   "outputs": [
    {
     "data": {
      "text/plain": [
       "1"
      ]
     },
     "execution_count": 22,
     "metadata": {},
     "output_type": "execute_result"
    }
   ],
   "source": [
    "from sklearn.tree import export_graphviz\n",
    "import os\n",
    "\n",
    "export_graphviz(model.estimators_[0],\n",
    "                out_file='tree.dot',\n",
    "                feature_names=X_dummy.columns,\n",
    "                filled=True,\n",
    "                rounded=True)\n",
    "\n",
    "\n",
    "os.system('dot -Tpng tree.dot -o tree.png')"
   ]
  },
  {
   "cell_type": "code",
   "execution_count": null,
   "metadata": {},
   "outputs": [],
   "source": [
    "from IPython.display import Image\n",
    "Image(filename = 'tree_limited.png')"
   ]
  }
 ],
 "metadata": {
  "kernelspec": {
   "display_name": "Python 2",
   "language": "python",
   "name": "python2"
  },
  "language_info": {
   "codemirror_mode": {
    "name": "ipython",
    "version": 2
   },
   "file_extension": ".py",
   "mimetype": "text/x-python",
   "name": "python",
   "nbconvert_exporter": "python",
   "pygments_lexer": "ipython2",
   "version": "2.7.15"
  }
 },
 "nbformat": 4,
 "nbformat_minor": 2
}
