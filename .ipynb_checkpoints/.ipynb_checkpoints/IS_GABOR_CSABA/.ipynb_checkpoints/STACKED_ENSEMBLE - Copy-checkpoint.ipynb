{
 "cells": [
  {
   "cell_type": "code",
   "execution_count": 3,
   "metadata": {},
   "outputs": [],
   "source": [
    "import numpy as np\n",
    "import pandas as pd\n",
    "import matplotlib.pyplot as plt\n",
    "import seaborn as sns\n",
    "pd.options.mode.chained_assignment = None\n",
    "from sklearn.model_selection import train_test_split\n",
    "from sklearn.preprocessing import LabelEncoder, OneHotEncoder\n",
    "from sklearn.metrics import mean_squared_error\n",
    "from sklearn.metrics import mean_absolute_error\n",
    "from sklearn.metrics import accuracy_score\n",
    "from sklearn.preprocessing import LabelEncoder\n",
    "from sklearn.preprocessing import OneHotEncoder\n",
    "from sklearn.compose import ColumnTransformer\n",
    "from sklearn.model_selection import KFold\n",
    "from sklearn.preprocessing import MinMaxScaler\n",
    "from sklearn.model_selection import cross_val_score\n",
    "from sklearn.preprocessing import StandardScaler\n",
    "from sklearn.ensemble import RandomForestClassifier\n",
    "from sklearn.metrics import confusion_matrix\n",
    "from sklearn.metrics import recall_score\n",
    "from sklearn.metrics import precision_score"
   ]
  },
  {
   "cell_type": "code",
   "execution_count": null,
   "metadata": {},
   "outputs": [],
   "source": [
    "firstName_gender = pd.read_csv('all_names_gender.csv')\n",
    "firstName_gender.head()\n",
    "\n",
    "\n",
    "df = pd.read_csv('note.csv')\n",
    "df = df.reset_index()\n",
    "\n",
    "Y = df[['rezultatul final']]  \n",
    "\n",
    "X = df[['nume','media teze nationale', 'nota la limba romana','judet8','scoala','media de absolvire','nota la matematica',\n",
    "       'optional8 nota','limba materna8','promotie anterioara','specializare','limba moderna','disciplina profil','optional'\n",
    "       ,'unitatea de invatamant', 'forma invatamant','judetul']]\n",
    "\n",
    "def firstname(name):\n",
    "    fullname_list = name.split(\" \")\n",
    "    return fullname_list[len(fullname_list)-1]\n",
    "\n",
    "X['nume'] = X['nume'].apply(firstname)\n",
    "\n",
    "\n",
    "#add gender \n",
    "genders = []\n",
    "\n",
    "for ind, name in enumerate(X['nume']):\n",
    "    all_first_names = name.split('-')\n",
    "    male = 0\n",
    "    female = 0\n",
    "    \n",
    "    for first in all_first_names:\n",
    "        if not firstName_gender[firstName_gender['name'] == first]['ga_gender'].empty:\n",
    "            gender = firstName_gender[firstName_gender['name'] == first]['ga_gender'].values[0]\n",
    "            if gender == 'male':\n",
    "                male +=1\n",
    "            else:\n",
    "                female +=1\n",
    "        \n",
    "    if male > female:\n",
    "        genders.append(0)\n",
    "    else:\n",
    "        genders.append(1)\n",
    "        \n",
    "X['gender'] = genders\n",
    "#names = X['nume'].str.get_dummies(sep='-').add_prefix('nume_')\n",
    "#names.head()\n",
    "\n",
    "\n",
    "#X = pd.concat([X, names], axis = 1)\n",
    "\n",
    "# #drop the old name column\n",
    "#X = X.drop('nume', axis=1)\n"
   ]
  },
  {
   "cell_type": "code",
   "execution_count": 9,
   "metadata": {},
   "outputs": [
    {
     "data": {
      "text/plain": [
       "'SC.CU CLS.I-VIII \"N.POPOVICIU\" BEIUS'"
      ]
     },
     "execution_count": 9,
     "metadata": {},
     "output_type": "execute_result"
    }
   ],
   "source": [
    "X['scoala'][1]"
   ]
  },
  {
   "cell_type": "code",
   "execution_count": 10,
   "metadata": {},
   "outputs": [],
   "source": [
    "scoala = []\n",
    "unitate = []\n",
    "\n",
    "for ind, row in X.iterrows():\n",
    "    scoala.append(X['scoala'][ind])\n",
    "    unitate.append(X['unitatea de invatamant'][ind])\n",
    "    "
   ]
  },
  {
   "cell_type": "code",
   "execution_count": 19,
   "metadata": {},
   "outputs": [
    {
     "data": {
      "text/plain": [
       "{'CENTRUL',\n",
       " 'COLEGIL',\n",
       " 'COLEGIUL',\n",
       " 'FUNDATIA',\n",
       " 'GIMNAZIUL',\n",
       " 'GR.SC.',\n",
       " 'GRI',\n",
       " 'GRUP',\n",
       " 'GRUPUL',\n",
       " 'LIC.TEORETIC',\n",
       " 'LICEUL',\n",
       " 'SC.',\n",
       " 'SC.CU',\n",
       " 'SC.I-VIII',\n",
       " 'SCOALA'}"
      ]
     },
     "execution_count": 19,
     "metadata": {},
     "output_type": "execute_result"
    }
   ],
   "source": [
    "scoala2 = []\n",
    "for sc in scoala:\n",
    "    full = sc.split(\" \")\n",
    "    scoala2.append(full[0])\n",
    "set(scoala2)"
   ]
  },
  {
   "cell_type": "code",
   "execution_count": 20,
   "metadata": {},
   "outputs": [
    {
     "data": {
      "text/plain": [
       "{'.liceul',\n",
       " 'Centrul',\n",
       " 'Colegiu',\n",
       " 'Colegiul',\n",
       " 'Grup',\n",
       " 'Grupul',\n",
       " 'Liceul',\n",
       " 'Scoala',\n",
       " 'Seminarul'}"
      ]
     },
     "execution_count": 20,
     "metadata": {},
     "output_type": "execute_result"
    }
   ],
   "source": [
    "unitate2 = []\n",
    "for sc in unitate:\n",
    "    full = sc.split(\" \")\n",
    "    unitate2.append(full[0])\n",
    "set(unitate2)"
   ]
  },
  {
   "cell_type": "code",
   "execution_count": 21,
   "metadata": {},
   "outputs": [],
   "source": [
    "X['scoala_tip'] = scoala2\n",
    "X['unitate_tip'] = unitate2"
   ]
  },
  {
   "cell_type": "code",
   "execution_count": 23,
   "metadata": {},
   "outputs": [
    {
     "data": {
      "text/html": [
       "<div>\n",
       "<style scoped>\n",
       "    .dataframe tbody tr th:only-of-type {\n",
       "        vertical-align: middle;\n",
       "    }\n",
       "\n",
       "    .dataframe tbody tr th {\n",
       "        vertical-align: top;\n",
       "    }\n",
       "\n",
       "    .dataframe thead th {\n",
       "        text-align: right;\n",
       "    }\n",
       "</style>\n",
       "<table border=\"1\" class=\"dataframe\">\n",
       "  <thead>\n",
       "    <tr style=\"text-align: right;\">\n",
       "      <th></th>\n",
       "      <th>nume</th>\n",
       "      <th>scoala_tip</th>\n",
       "      <th>unitate_tip</th>\n",
       "    </tr>\n",
       "  </thead>\n",
       "  <tbody>\n",
       "    <tr>\n",
       "      <th>0</th>\n",
       "      <td>florin</td>\n",
       "      <td>SC.CU</td>\n",
       "      <td>Colegiul</td>\n",
       "    </tr>\n",
       "    <tr>\n",
       "      <th>1</th>\n",
       "      <td>darius</td>\n",
       "      <td>SC.CU</td>\n",
       "      <td>Colegiul</td>\n",
       "    </tr>\n",
       "    <tr>\n",
       "      <th>2</th>\n",
       "      <td>doru</td>\n",
       "      <td>SC.CU</td>\n",
       "      <td>Colegiul</td>\n",
       "    </tr>\n",
       "    <tr>\n",
       "      <th>3</th>\n",
       "      <td>bogdan</td>\n",
       "      <td>SC.CU</td>\n",
       "      <td>Colegiul</td>\n",
       "    </tr>\n",
       "    <tr>\n",
       "      <th>4</th>\n",
       "      <td>georgian</td>\n",
       "      <td>LICEUL</td>\n",
       "      <td>Colegiul</td>\n",
       "    </tr>\n",
       "  </tbody>\n",
       "</table>\n",
       "</div>"
      ],
      "text/plain": [
       "       nume scoala_tip unitate_tip\n",
       "0    florin      SC.CU    Colegiul\n",
       "1    darius      SC.CU    Colegiul\n",
       "2      doru      SC.CU    Colegiul\n",
       "3    bogdan      SC.CU    Colegiul\n",
       "4  georgian     LICEUL    Colegiul"
      ]
     },
     "execution_count": 23,
     "metadata": {},
     "output_type": "execute_result"
    }
   ],
   "source": [
    "X[['nume','scoala_tip','unitate_tip']].head()"
   ]
  },
  {
   "cell_type": "code",
   "execution_count": 24,
   "metadata": {},
   "outputs": [
    {
     "data": {
      "text/html": [
       "<div>\n",
       "<style scoped>\n",
       "    .dataframe tbody tr th:only-of-type {\n",
       "        vertical-align: middle;\n",
       "    }\n",
       "\n",
       "    .dataframe tbody tr th {\n",
       "        vertical-align: top;\n",
       "    }\n",
       "\n",
       "    .dataframe thead th {\n",
       "        text-align: right;\n",
       "    }\n",
       "</style>\n",
       "<table border=\"1\" class=\"dataframe\">\n",
       "  <thead>\n",
       "    <tr style=\"text-align: right;\">\n",
       "      <th></th>\n",
       "      <th>nume</th>\n",
       "      <th>media teze nationale</th>\n",
       "      <th>nota la limba romana</th>\n",
       "      <th>judet8</th>\n",
       "      <th>scoala</th>\n",
       "      <th>media de absolvire</th>\n",
       "      <th>nota la matematica</th>\n",
       "      <th>optional8 nota</th>\n",
       "      <th>limba materna8</th>\n",
       "      <th>promotie anterioara</th>\n",
       "      <th>specializare</th>\n",
       "      <th>limba moderna</th>\n",
       "      <th>disciplina profil</th>\n",
       "      <th>optional</th>\n",
       "      <th>unitatea de invatamant</th>\n",
       "      <th>forma invatamant</th>\n",
       "      <th>judetul</th>\n",
       "      <th>gender</th>\n",
       "      <th>scoala_tip</th>\n",
       "      <th>unitate_tip</th>\n",
       "    </tr>\n",
       "  </thead>\n",
       "  <tbody>\n",
       "    <tr>\n",
       "      <th>0</th>\n",
       "      <td>949</td>\n",
       "      <td>9.10</td>\n",
       "      <td>8.17</td>\n",
       "      <td>4</td>\n",
       "      <td>478</td>\n",
       "      <td>9.54</td>\n",
       "      <td>9.45</td>\n",
       "      <td>9.70</td>\n",
       "      <td>0</td>\n",
       "      <td>1</td>\n",
       "      <td>43</td>\n",
       "      <td>0</td>\n",
       "      <td>2</td>\n",
       "      <td>0</td>\n",
       "      <td>252</td>\n",
       "      <td>3</td>\n",
       "      <td>5</td>\n",
       "      <td>0</td>\n",
       "      <td>12</td>\n",
       "      <td>3</td>\n",
       "    </tr>\n",
       "    <tr>\n",
       "      <th>1</th>\n",
       "      <td>689</td>\n",
       "      <td>8.63</td>\n",
       "      <td>8.30</td>\n",
       "      <td>4</td>\n",
       "      <td>391</td>\n",
       "      <td>9.62</td>\n",
       "      <td>8.00</td>\n",
       "      <td>9.60</td>\n",
       "      <td>0</td>\n",
       "      <td>1</td>\n",
       "      <td>43</td>\n",
       "      <td>0</td>\n",
       "      <td>2</td>\n",
       "      <td>0</td>\n",
       "      <td>252</td>\n",
       "      <td>3</td>\n",
       "      <td>5</td>\n",
       "      <td>0</td>\n",
       "      <td>12</td>\n",
       "      <td>3</td>\n",
       "    </tr>\n",
       "    <tr>\n",
       "      <th>2</th>\n",
       "      <td>769</td>\n",
       "      <td>7.90</td>\n",
       "      <td>7.62</td>\n",
       "      <td>4</td>\n",
       "      <td>419</td>\n",
       "      <td>9.52</td>\n",
       "      <td>6.97</td>\n",
       "      <td>9.10</td>\n",
       "      <td>0</td>\n",
       "      <td>1</td>\n",
       "      <td>43</td>\n",
       "      <td>0</td>\n",
       "      <td>2</td>\n",
       "      <td>0</td>\n",
       "      <td>252</td>\n",
       "      <td>3</td>\n",
       "      <td>5</td>\n",
       "      <td>0</td>\n",
       "      <td>12</td>\n",
       "      <td>3</td>\n",
       "    </tr>\n",
       "    <tr>\n",
       "      <th>3</th>\n",
       "      <td>412</td>\n",
       "      <td>8.21</td>\n",
       "      <td>7.30</td>\n",
       "      <td>4</td>\n",
       "      <td>421</td>\n",
       "      <td>8.51</td>\n",
       "      <td>7.95</td>\n",
       "      <td>9.40</td>\n",
       "      <td>0</td>\n",
       "      <td>1</td>\n",
       "      <td>43</td>\n",
       "      <td>0</td>\n",
       "      <td>2</td>\n",
       "      <td>0</td>\n",
       "      <td>252</td>\n",
       "      <td>3</td>\n",
       "      <td>5</td>\n",
       "      <td>0</td>\n",
       "      <td>12</td>\n",
       "      <td>3</td>\n",
       "    </tr>\n",
       "    <tr>\n",
       "      <th>4</th>\n",
       "      <td>1032</td>\n",
       "      <td>7.73</td>\n",
       "      <td>6.40</td>\n",
       "      <td>4</td>\n",
       "      <td>286</td>\n",
       "      <td>8.89</td>\n",
       "      <td>8.72</td>\n",
       "      <td>8.07</td>\n",
       "      <td>0</td>\n",
       "      <td>1</td>\n",
       "      <td>43</td>\n",
       "      <td>0</td>\n",
       "      <td>2</td>\n",
       "      <td>0</td>\n",
       "      <td>252</td>\n",
       "      <td>3</td>\n",
       "      <td>5</td>\n",
       "      <td>0</td>\n",
       "      <td>10</td>\n",
       "      <td>3</td>\n",
       "    </tr>\n",
       "  </tbody>\n",
       "</table>\n",
       "</div>"
      ],
      "text/plain": [
       "   nume  media teze nationale  nota la limba romana  judet8  scoala  \\\n",
       "0   949                  9.10                  8.17       4     478   \n",
       "1   689                  8.63                  8.30       4     391   \n",
       "2   769                  7.90                  7.62       4     419   \n",
       "3   412                  8.21                  7.30       4     421   \n",
       "4  1032                  7.73                  6.40       4     286   \n",
       "\n",
       "   media de absolvire  nota la matematica  optional8 nota  limba materna8  \\\n",
       "0                9.54                9.45            9.70               0   \n",
       "1                9.62                8.00            9.60               0   \n",
       "2                9.52                6.97            9.10               0   \n",
       "3                8.51                7.95            9.40               0   \n",
       "4                8.89                8.72            8.07               0   \n",
       "\n",
       "   promotie anterioara  specializare  limba moderna  disciplina profil  \\\n",
       "0                    1            43              0                  2   \n",
       "1                    1            43              0                  2   \n",
       "2                    1            43              0                  2   \n",
       "3                    1            43              0                  2   \n",
       "4                    1            43              0                  2   \n",
       "\n",
       "   optional  unitatea de invatamant  forma invatamant  judetul  gender  \\\n",
       "0         0                     252                 3        5       0   \n",
       "1         0                     252                 3        5       0   \n",
       "2         0                     252                 3        5       0   \n",
       "3         0                     252                 3        5       0   \n",
       "4         0                     252                 3        5       0   \n",
       "\n",
       "   scoala_tip  unitate_tip  \n",
       "0          12            3  \n",
       "1          12            3  \n",
       "2          12            3  \n",
       "3          12            3  \n",
       "4          10            3  "
      ]
     },
     "execution_count": 24,
     "metadata": {},
     "output_type": "execute_result"
    }
   ],
   "source": [
    "for i,c in enumerate(X.columns):\n",
    "        if X[c].dtype == 'object':\n",
    "            lbl = LabelEncoder()\n",
    "            lbl.fit(list(X[c].values))\n",
    "            X[c] = lbl.transform(list(X[c].values)) \n",
    "\n",
    "for i,c in enumerate(Y.columns):\n",
    "    if Y[c].dtype == 'object':\n",
    "        lbl = LabelEncoder()\n",
    "        lbl.fit(list(Y[c].values))\n",
    "        Y[c] = lbl.transform(list(Y[c].values)) \n",
    "Y.head()\n",
    "            \n",
    "X_train, X_test, Y_train, Y_test = train_test_split(X, Y, test_size=0.20, random_state = 40) #same seed to compare results\n",
    "\n",
    "            \n",
    "X.head()"
   ]
  },
  {
   "cell_type": "code",
   "execution_count": 5,
   "metadata": {},
   "outputs": [
    {
     "ename": "ImportError",
     "evalue": "No module named xgboost",
     "output_type": "error",
     "traceback": [
      "\u001b[1;31m---------------------------------------------------------------------------\u001b[0m",
      "\u001b[1;31mImportError\u001b[0m                               Traceback (most recent call last)",
      "\u001b[1;32m<ipython-input-5-f842a14fa9c9>\u001b[0m in \u001b[0;36m<module>\u001b[1;34m()\u001b[0m\n\u001b[1;32m----> 1\u001b[1;33m \u001b[1;32mfrom\u001b[0m \u001b[0mxgboost\u001b[0m \u001b[1;32mimport\u001b[0m \u001b[0mXGBClassifier\u001b[0m\u001b[1;33m\u001b[0m\u001b[0m\n\u001b[0m\u001b[0;32m      2\u001b[0m \u001b[1;32mfrom\u001b[0m \u001b[0mvecstack\u001b[0m \u001b[1;32mimport\u001b[0m \u001b[0mstacking\u001b[0m\u001b[1;33m\u001b[0m\u001b[0m\n",
      "\u001b[1;31mImportError\u001b[0m: No module named xgboost"
     ]
    }
   ],
   "source": [
    "from xgboost import XGBClassifier\n",
    "from vecstack import stacking"
   ]
  },
  {
   "cell_type": "code",
   "execution_count": 2,
   "metadata": {},
   "outputs": [
    {
     "ename": "NameError",
     "evalue": "name 'train_test_split' is not defined",
     "output_type": "error",
     "traceback": [
      "\u001b[1;31m---------------------------------------------------------------------------\u001b[0m",
      "\u001b[1;31mNameError\u001b[0m                                 Traceback (most recent call last)",
      "\u001b[1;32m<ipython-input-2-4cd7186a9c1b>\u001b[0m in \u001b[0;36m<module>\u001b[1;34m()\u001b[0m\n\u001b[0;32m      1\u001b[0m \u001b[1;31m#let's predict\u001b[0m\u001b[1;33m\u001b[0m\u001b[1;33m\u001b[0m\u001b[0m\n\u001b[1;32m----> 2\u001b[1;33m \u001b[0mX_train\u001b[0m\u001b[1;33m,\u001b[0m \u001b[0mX_test\u001b[0m\u001b[1;33m,\u001b[0m \u001b[0mY_train\u001b[0m\u001b[1;33m,\u001b[0m \u001b[0mY_test\u001b[0m \u001b[1;33m=\u001b[0m \u001b[0mtrain_test_split\u001b[0m\u001b[1;33m(\u001b[0m\u001b[0mX\u001b[0m\u001b[1;33m,\u001b[0m \u001b[0mY\u001b[0m\u001b[1;33m,\u001b[0m \u001b[0mtest_size\u001b[0m\u001b[1;33m=\u001b[0m\u001b[1;36m0.20\u001b[0m\u001b[1;33m,\u001b[0m \u001b[0mrandom_state\u001b[0m \u001b[1;33m=\u001b[0m \u001b[1;36m40\u001b[0m\u001b[1;33m)\u001b[0m \u001b[1;31m#same seed to compare results\u001b[0m\u001b[1;33m\u001b[0m\u001b[0m\n\u001b[0m\u001b[0;32m      3\u001b[0m \u001b[1;33m\u001b[0m\u001b[0m\n\u001b[0;32m      4\u001b[0m \u001b[1;33m\u001b[0m\u001b[0m\n\u001b[0;32m      5\u001b[0m \u001b[0mmodel\u001b[0m \u001b[1;33m=\u001b[0m \u001b[0mRandomForestClassifier\u001b[0m\u001b[1;33m(\u001b[0m\u001b[0mn_jobs\u001b[0m\u001b[1;33m=\u001b[0m\u001b[1;33m-\u001b[0m\u001b[1;36m1\u001b[0m\u001b[1;33m,\u001b[0m \u001b[0mn_estimators\u001b[0m\u001b[1;33m=\u001b[0m\u001b[1;36m100\u001b[0m\u001b[1;33m)\u001b[0m\u001b[1;33m\u001b[0m\u001b[0m\n",
      "\u001b[1;31mNameError\u001b[0m: name 'train_test_split' is not defined"
     ]
    }
   ],
   "source": [
    "#let's predict\n",
    "X_train, X_test, Y_train, Y_test = train_test_split(X, Y, test_size=0.20, random_state = 40) #same seed to compare results\n",
    "\n",
    "\n",
    "model = RandomForestClassifier(n_jobs=-1, n_estimators=100)\n",
    "model.fit(X_train, Y_train)\n",
    "Y_pred = model.predict(X_test)\n",
    "print accuracy_score(Y_pred, Y_test)"
   ]
  },
  {
   "cell_type": "code",
   "execution_count": 1,
   "metadata": {},
   "outputs": [
    {
     "ename": "NameError",
     "evalue": "name 'X' is not defined",
     "output_type": "error",
     "traceback": [
      "\u001b[1;31m---------------------------------------------------------------------------\u001b[0m",
      "\u001b[1;31mNameError\u001b[0m                                 Traceback (most recent call last)",
      "\u001b[1;32m<ipython-input-1-ba807f057b40>\u001b[0m in \u001b[0;36m<module>\u001b[1;34m()\u001b[0m\n\u001b[0;32m      1\u001b[0m \u001b[1;31m#let's predict\u001b[0m\u001b[1;33m\u001b[0m\u001b[1;33m\u001b[0m\u001b[0m\n\u001b[1;32m----> 2\u001b[1;33m \u001b[0mX2\u001b[0m \u001b[1;33m=\u001b[0m \u001b[0mX\u001b[0m\u001b[1;33m.\u001b[0m\u001b[0mdrop\u001b[0m\u001b[1;33m(\u001b[0m\u001b[1;33m[\u001b[0m\u001b[1;34m'scoala_tip'\u001b[0m\u001b[1;33m,\u001b[0m\u001b[1;34m'unitate_tip'\u001b[0m\u001b[1;33m]\u001b[0m\u001b[1;33m,\u001b[0m \u001b[0maxis\u001b[0m \u001b[1;33m=\u001b[0m \u001b[1;36m1\u001b[0m\u001b[1;33m)\u001b[0m\u001b[1;33m\u001b[0m\u001b[0m\n\u001b[0m\u001b[0;32m      3\u001b[0m \u001b[1;33m\u001b[0m\u001b[0m\n\u001b[0;32m      4\u001b[0m \u001b[0mX_train\u001b[0m\u001b[1;33m,\u001b[0m \u001b[0mX_test\u001b[0m\u001b[1;33m,\u001b[0m \u001b[0mY_train\u001b[0m\u001b[1;33m,\u001b[0m \u001b[0mY_test\u001b[0m \u001b[1;33m=\u001b[0m \u001b[0mtrain_test_split\u001b[0m\u001b[1;33m(\u001b[0m\u001b[0mX2\u001b[0m\u001b[1;33m,\u001b[0m \u001b[0mY\u001b[0m\u001b[1;33m,\u001b[0m \u001b[0mtest_size\u001b[0m\u001b[1;33m=\u001b[0m\u001b[1;36m0.20\u001b[0m\u001b[1;33m,\u001b[0m \u001b[0mrandom_state\u001b[0m \u001b[1;33m=\u001b[0m \u001b[1;36m40\u001b[0m\u001b[1;33m)\u001b[0m \u001b[1;31m#same seed to compare results\u001b[0m\u001b[1;33m\u001b[0m\u001b[0m\n\u001b[0;32m      5\u001b[0m \u001b[1;33m\u001b[0m\u001b[0m\n",
      "\u001b[1;31mNameError\u001b[0m: name 'X' is not defined"
     ]
    }
   ],
   "source": [
    "#let's predict\n",
    "X2 = X.drop(['scoala_tip','unitate_tip'], axis = 1)\n",
    "\n",
    "X_train, X_test, Y_train, Y_test = train_test_split(X2, Y, test_size=0.20, random_state = 40) #same seed to compare results\n",
    "\n",
    "\n",
    "model = RandomForestClassifier(n_jobs=-1, n_estimators=100)\n",
    "model.fit(X_train, Y_train)\n",
    "Y_pred = model.predict(X_test)\n",
    "print accuracy_score(Y_pred, Y_test)"
   ]
  },
  {
   "cell_type": "code",
   "execution_count": null,
   "metadata": {},
   "outputs": [],
   "source": []
  }
 ],
 "metadata": {
  "kernelspec": {
   "display_name": "Python 2",
   "language": "python",
   "name": "python2"
  },
  "language_info": {
   "codemirror_mode": {
    "name": "ipython",
    "version": 2
   },
   "file_extension": ".py",
   "mimetype": "text/x-python",
   "name": "python",
   "nbconvert_exporter": "python",
   "pygments_lexer": "ipython2",
   "version": "2.7.14"
  }
 },
 "nbformat": 4,
 "nbformat_minor": 2
}
