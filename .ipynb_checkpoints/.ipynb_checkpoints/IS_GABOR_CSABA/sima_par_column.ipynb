{
 "cells": [
  {
   "cell_type": "code",
   "execution_count": 9,
   "metadata": {},
   "outputs": [],
   "source": [
    "import numpy as np\n",
    "import pandas as pd\n",
    "import matplotlib.pyplot as plt\n",
    "import seaborn as sns\n",
    "from sklearn.linear_model import LinearRegression\n",
    "from sklearn.model_selection import train_test_split\n",
    "from sklearn.preprocessing import LabelEncoder, OneHotEncoder\n",
    "from sklearn.metrics import mean_squared_error\n",
    "from sklearn.metrics import mean_absolute_error\n",
    "from sklearn.metrics import accuracy_score\n",
    "from sklearn.preprocessing import LabelEncoder\n",
    "from sklearn.preprocessing import OneHotEncoder\n",
    "from sklearn.ensemble import RandomForestRegressor\n",
    "from sklearn.compose import ColumnTransformer\n",
    "from sklearn.model_selection import KFold\n",
    "from sklearn.preprocessing import MinMaxScaler\n",
    "from sklearn.model_selection import cross_val_score\n",
    "from sklearn.preprocessing import StandardScaler"
   ]
  },
  {
   "cell_type": "code",
   "execution_count": 67,
   "metadata": {},
   "outputs": [],
   "source": [
    "df = pd.read_csv('note.csv')\n",
    "df = df.reset_index()\n",
    "df = df.head(1600)\n",
    "\n"
   ]
  },
  {
   "cell_type": "code",
   "execution_count": 68,
   "metadata": {},
   "outputs": [
    {
     "data": {
      "text/plain": [
       "index                               0\n",
       "nume                                0\n",
       "judet8                              0\n",
       "scoala                              0\n",
       "media la admitere                   0\n",
       "media teze nationale                0\n",
       "media de absolvire                  0\n",
       "nota la limba romana                0\n",
       "nota la matematica                  0\n",
       "optional8                           0\n",
       "optional8 nota                      0\n",
       "limba materna8                      0\n",
       "limba materna8 nota                 0\n",
       "pozitia in ierarhie pe judet        0\n",
       "pozitia in ierarhie pe tara         0\n",
       "unitatea de invatamant              0\n",
       "judetul                             0\n",
       "promotie anterioara                 0\n",
       "forma invatamant                    0\n",
       "specializare                        0\n",
       "romana oral                         0\n",
       "romana nota                         0\n",
       "romana contestatie               1430\n",
       "romana final                        0\n",
       "limba materna                    1412\n",
       "materna oral                     1412\n",
       "materna nota                     1412\n",
       "materna contestatie              1592\n",
       "materna final                    1412\n",
       "limba moderna                       0\n",
       "limba moderna nota                123\n",
       "disciplina profil                   0\n",
       "disciplina profil nota              0\n",
       "disciplina profil contestatie    1393\n",
       "disciplina profil final             0\n",
       "optional                            0\n",
       "optional nota                       0\n",
       "optional contestatie             1500\n",
       "optional final                      0\n",
       "competente digitale                 0\n",
       "media                               0\n",
       "rezultatul final                    0\n",
       "dtype: int64"
      ]
     },
     "execution_count": 68,
     "metadata": {},
     "output_type": "execute_result"
    }
   ],
   "source": [
    "df.isna().sum()"
   ]
  },
  {
   "cell_type": "code",
   "execution_count": 11,
   "metadata": {},
   "outputs": [
    {
     "data": {
      "text/plain": [
       "Index([u'index', u'nume', u'judet8', u'scoala', u'media la admitere',\n",
       "       u'media teze nationale', u'media de absolvire', u'nota la limba romana',\n",
       "       u'nota la matematica', u'optional8', u'optional8 nota',\n",
       "       u'limba materna8', u'limba materna8 nota',\n",
       "       u'pozitia in ierarhie pe judet', u'pozitia in ierarhie pe tara',\n",
       "       u'unitatea de invatamant', u'judetul', u'promotie anterioara',\n",
       "       u'forma invatamant', u'specializare', u'romana oral', u'romana nota',\n",
       "       u'romana contestatie', u'romana final', u'limba materna',\n",
       "       u'materna oral', u'materna nota', u'materna contestatie',\n",
       "       u'materna final', u'limba moderna', u'limba moderna nota',\n",
       "       u'disciplina profil', u'disciplina profil nota',\n",
       "       u'disciplina profil contestatie', u'disciplina profil final',\n",
       "       u'optional', u'optional nota', u'optional contestatie',\n",
       "       u'optional final', u'competente digitale', u'media',\n",
       "       u'rezultatul final'],\n",
       "      dtype='object')"
      ]
     },
     "execution_count": 11,
     "metadata": {},
     "output_type": "execute_result"
    }
   ],
   "source": [
    "df.keys()"
   ]
  },
  {
   "cell_type": "code",
   "execution_count": 69,
   "metadata": {},
   "outputs": [],
   "source": [
    "X = df[['nota la limba romana','media la admitere','media teze nationale','media de absolvire','limba materna8']]\n",
    "Y = df['romana final']      \n",
    "#X.head()"
   ]
  },
  {
   "cell_type": "code",
   "execution_count": 71,
   "metadata": {},
   "outputs": [
    {
     "name": "stderr",
     "output_type": "stream",
     "text": [
      "c:\\python27\\lib\\site-packages\\ipykernel_launcher.py:5: SettingWithCopyWarning: \n",
      "A value is trying to be set on a copy of a slice from a DataFrame.\n",
      "Try using .loc[row_indexer,col_indexer] = value instead\n",
      "\n",
      "See the caveats in the documentation: http://pandas.pydata.org/pandas-docs/stable/indexing.html#indexing-view-versus-copy\n",
      "  \"\"\"\n",
      "c:\\python27\\lib\\site-packages\\ipykernel_launcher.py:10: SettingWithCopyWarning: \n",
      "A value is trying to be set on a copy of a slice from a DataFrame.\n",
      "Try using .loc[row_indexer,col_indexer] = value instead\n",
      "\n",
      "See the caveats in the documentation: http://pandas.pydata.org/pandas-docs/stable/indexing.html#indexing-view-versus-copy\n",
      "  # Remove the CWD from sys.path while we load stuff.\n",
      "c:\\python27\\lib\\site-packages\\pandas\\core\\indexing.py:543: SettingWithCopyWarning: \n",
      "A value is trying to be set on a copy of a slice from a DataFrame.\n",
      "Try using .loc[row_indexer,col_indexer] = value instead\n",
      "\n",
      "See the caveats in the documentation: http://pandas.pydata.org/pandas-docs/stable/indexing.html#indexing-view-versus-copy\n",
      "  self.obj[item] = s\n"
     ]
    },
    {
     "name": "stdout",
     "output_type": "stream",
     "text": [
      "['nota la limba romana', 'media la admitere', 'media teze nationale', 'media de absolvire']\n"
     ]
    },
    {
     "data": {
      "text/html": [
       "<div>\n",
       "<style scoped>\n",
       "    .dataframe tbody tr th:only-of-type {\n",
       "        vertical-align: middle;\n",
       "    }\n",
       "\n",
       "    .dataframe tbody tr th {\n",
       "        vertical-align: top;\n",
       "    }\n",
       "\n",
       "    .dataframe thead th {\n",
       "        text-align: right;\n",
       "    }\n",
       "</style>\n",
       "<table border=\"1\" class=\"dataframe\">\n",
       "  <thead>\n",
       "    <tr style=\"text-align: right;\">\n",
       "      <th></th>\n",
       "      <th>nota la limba romana</th>\n",
       "      <th>media la admitere</th>\n",
       "      <th>media teze nationale</th>\n",
       "      <th>media de absolvire</th>\n",
       "      <th>limba materna8</th>\n",
       "    </tr>\n",
       "  </thead>\n",
       "  <tbody>\n",
       "    <tr>\n",
       "      <th>0</th>\n",
       "      <td>0.802321</td>\n",
       "      <td>1.121596</td>\n",
       "      <td>1.240249</td>\n",
       "      <td>0.772303</td>\n",
       "      <td>-</td>\n",
       "    </tr>\n",
       "    <tr>\n",
       "      <th>1</th>\n",
       "      <td>0.886501</td>\n",
       "      <td>0.892500</td>\n",
       "      <td>0.811143</td>\n",
       "      <td>0.876189</td>\n",
       "      <td>-</td>\n",
       "    </tr>\n",
       "    <tr>\n",
       "      <th>2</th>\n",
       "      <td>0.446175</td>\n",
       "      <td>0.422854</td>\n",
       "      <td>0.144658</td>\n",
       "      <td>0.746332</td>\n",
       "      <td>-</td>\n",
       "    </tr>\n",
       "    <tr>\n",
       "      <th>3</th>\n",
       "      <td>0.238962</td>\n",
       "      <td>0.021936</td>\n",
       "      <td>0.427686</td>\n",
       "      <td>-0.565229</td>\n",
       "      <td>-</td>\n",
       "    </tr>\n",
       "    <tr>\n",
       "      <th>4</th>\n",
       "      <td>-0.343823</td>\n",
       "      <td>-0.035338</td>\n",
       "      <td>-0.010551</td>\n",
       "      <td>-0.071771</td>\n",
       "      <td>-</td>\n",
       "    </tr>\n",
       "  </tbody>\n",
       "</table>\n",
       "</div>"
      ],
      "text/plain": [
       "   nota la limba romana  media la admitere  media teze nationale  \\\n",
       "0              0.802321           1.121596              1.240249   \n",
       "1              0.886501           0.892500              0.811143   \n",
       "2              0.446175           0.422854              0.144658   \n",
       "3              0.238962           0.021936              0.427686   \n",
       "4             -0.343823          -0.035338             -0.010551   \n",
       "\n",
       "   media de absolvire limba materna8  \n",
       "0            0.772303              -  \n",
       "1            0.876189              -  \n",
       "2            0.746332              -  \n",
       "3           -0.565229              -  \n",
       "4           -0.071771              -  "
      ]
     },
     "execution_count": 71,
     "metadata": {},
     "output_type": "execute_result"
    }
   ],
   "source": [
    "number_columns = []\n",
    "for col in X.columns:\n",
    "    if X[col].dtype != 'object':\n",
    "        number_columns.append(col)\n",
    "        X[col] = X[col].astype(float)\n",
    "\n",
    "print number_columns\n",
    "\n",
    "scaler = StandardScaler()\n",
    "X[number_columns] = scaler.fit_transform(X[['nota la limba romana', 'media la admitere', 'media teze nationale', 'media de absolvire']])\n",
    "X.head()"
   ]
  },
  {
   "cell_type": "code",
   "execution_count": 66,
   "metadata": {},
   "outputs": [
    {
     "name": "stdout",
     "output_type": "stream",
     "text": [
      "[0.49386407 0.36468178 0.42249299 0.51607732 0.4258384 ]\n",
      "0.44459091208790025\n"
     ]
    }
   ],
   "source": [
    "from sklearn.model_selection import KFold\n",
    "from sklearn.preprocessing import MinMaxScaler\n",
    "from sklearn.svm import SVR\n",
    "regressor = LinearRegression()  \n",
    "scores = cross_val_score(regressor, X, Y, cv=5)\n",
    "#print ('Acuracy %0.2f (+/- %0.2f)' % (scores.mean(), scores.std() *2))\n",
    "print scores\n",
    "print scores.mean()"
   ]
  },
  {
   "cell_type": "code",
   "execution_count": 61,
   "metadata": {},
   "outputs": [
    {
     "name": "stdout",
     "output_type": "stream",
     "text": [
      "2.149026270818506\n",
      "1.176402157516448\n",
      "0.46325866083069395\n"
     ]
    }
   ],
   "source": [
    "X_train, X_test, Y_train, Y_test = train_test_split(X, Y, test_size=0.20) \n",
    "regressor = LinearRegression()  \n",
    "regressor.fit(X_train, Y_train) \n",
    "Y_pred = regressor.predict(X_test)\n",
    "print mean_squared_error(Y_test, Y_pred)\n",
    "print mean_absolute_error(Y_test, Y_pred)\n",
    "print regressor.score(X_test, Y_test)"
   ]
  },
  {
   "cell_type": "code",
   "execution_count": 52,
   "metadata": {},
   "outputs": [
    {
     "data": {
      "text/plain": [
       "['limba materna8']"
      ]
     },
     "execution_count": 52,
     "metadata": {},
     "output_type": "execute_result"
    }
   ],
   "source": [
    "categorical_features = []\n",
    "categorical_features_indices = []\n",
    "for i,c in enumerate(X.columns):\n",
    "        if X[c].dtype == 'object':\n",
    "            categorical_features.append(c)\n",
    "            categorical_features_indices.append(i)      \n",
    "categorical_features"
   ]
  },
  {
   "cell_type": "code",
   "execution_count": 53,
   "metadata": {},
   "outputs": [
    {
     "data": {
      "text/html": [
       "<div>\n",
       "<style scoped>\n",
       "    .dataframe tbody tr th:only-of-type {\n",
       "        vertical-align: middle;\n",
       "    }\n",
       "\n",
       "    .dataframe tbody tr th {\n",
       "        vertical-align: top;\n",
       "    }\n",
       "\n",
       "    .dataframe thead th {\n",
       "        text-align: right;\n",
       "    }\n",
       "</style>\n",
       "<table border=\"1\" class=\"dataframe\">\n",
       "  <thead>\n",
       "    <tr style=\"text-align: right;\">\n",
       "      <th></th>\n",
       "      <th>nota la limba romana</th>\n",
       "      <th>media la admitere</th>\n",
       "      <th>media teze nationale</th>\n",
       "      <th>media de absolvire</th>\n",
       "      <th>limba materna8_-</th>\n",
       "      <th>limba materna8_Germana</th>\n",
       "      <th>limba materna8_Maghiara</th>\n",
       "      <th>limba materna8_Slovaca</th>\n",
       "    </tr>\n",
       "  </thead>\n",
       "  <tbody>\n",
       "    <tr>\n",
       "      <th>0</th>\n",
       "      <td>8.17</td>\n",
       "      <td>9.32</td>\n",
       "      <td>9.10</td>\n",
       "      <td>9.54</td>\n",
       "      <td>1</td>\n",
       "      <td>0</td>\n",
       "      <td>0</td>\n",
       "      <td>0</td>\n",
       "    </tr>\n",
       "    <tr>\n",
       "      <th>1</th>\n",
       "      <td>8.30</td>\n",
       "      <td>9.12</td>\n",
       "      <td>8.63</td>\n",
       "      <td>9.62</td>\n",
       "      <td>1</td>\n",
       "      <td>0</td>\n",
       "      <td>0</td>\n",
       "      <td>0</td>\n",
       "    </tr>\n",
       "    <tr>\n",
       "      <th>2</th>\n",
       "      <td>7.62</td>\n",
       "      <td>8.71</td>\n",
       "      <td>7.90</td>\n",
       "      <td>9.52</td>\n",
       "      <td>1</td>\n",
       "      <td>0</td>\n",
       "      <td>0</td>\n",
       "      <td>0</td>\n",
       "    </tr>\n",
       "    <tr>\n",
       "      <th>3</th>\n",
       "      <td>7.30</td>\n",
       "      <td>8.36</td>\n",
       "      <td>8.21</td>\n",
       "      <td>8.51</td>\n",
       "      <td>1</td>\n",
       "      <td>0</td>\n",
       "      <td>0</td>\n",
       "      <td>0</td>\n",
       "    </tr>\n",
       "    <tr>\n",
       "      <th>4</th>\n",
       "      <td>6.40</td>\n",
       "      <td>8.31</td>\n",
       "      <td>7.73</td>\n",
       "      <td>8.89</td>\n",
       "      <td>1</td>\n",
       "      <td>0</td>\n",
       "      <td>0</td>\n",
       "      <td>0</td>\n",
       "    </tr>\n",
       "  </tbody>\n",
       "</table>\n",
       "</div>"
      ],
      "text/plain": [
       "   nota la limba romana  media la admitere  media teze nationale  \\\n",
       "0                  8.17               9.32                  9.10   \n",
       "1                  8.30               9.12                  8.63   \n",
       "2                  7.62               8.71                  7.90   \n",
       "3                  7.30               8.36                  8.21   \n",
       "4                  6.40               8.31                  7.73   \n",
       "\n",
       "   media de absolvire  limba materna8_-  limba materna8_Germana  \\\n",
       "0                9.54                 1                       0   \n",
       "1                9.62                 1                       0   \n",
       "2                9.52                 1                       0   \n",
       "3                8.51                 1                       0   \n",
       "4                8.89                 1                       0   \n",
       "\n",
       "   limba materna8_Maghiara  limba materna8_Slovaca  \n",
       "0                        0                       0  \n",
       "1                        0                       0  \n",
       "2                        0                       0  \n",
       "3                        0                       0  \n",
       "4                        0                       0  "
      ]
     },
     "execution_count": 53,
     "metadata": {},
     "output_type": "execute_result"
    }
   ],
   "source": [
    "#dummy variables\n",
    "X = pd.get_dummies(X, columns=categorical_features)\n",
    "X.head()"
   ]
  },
  {
   "cell_type": "code",
   "execution_count": null,
   "metadata": {},
   "outputs": [],
   "source": []
  }
 ],
 "metadata": {
  "kernelspec": {
   "display_name": "Python 2",
   "language": "python",
   "name": "python2"
  },
  "language_info": {
   "codemirror_mode": {
    "name": "ipython",
    "version": 2
   },
   "file_extension": ".py",
   "mimetype": "text/x-python",
   "name": "python",
   "nbconvert_exporter": "python",
   "pygments_lexer": "ipython2",
   "version": "2.7.15"
  }
 },
 "nbformat": 4,
 "nbformat_minor": 2
}
