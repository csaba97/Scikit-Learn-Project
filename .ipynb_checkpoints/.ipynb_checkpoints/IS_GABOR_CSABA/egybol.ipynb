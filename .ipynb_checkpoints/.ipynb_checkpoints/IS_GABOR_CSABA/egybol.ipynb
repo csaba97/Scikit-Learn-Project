{
 "cells": [
  {
   "cell_type": "code",
   "execution_count": 1,
   "metadata": {},
   "outputs": [],
   "source": [
    "import numpy as np\n",
    "import pandas as pd\n",
    "import matplotlib.pyplot as plt\n",
    "import seaborn as sns\n",
    "from sklearn.linear_model import LinearRegression\n",
    "from sklearn.model_selection import train_test_split\n",
    "from sklearn.preprocessing import LabelEncoder, OneHotEncoder\n",
    "from sklearn.metrics import mean_squared_error\n",
    "from sklearn.metrics import mean_absolute_error\n",
    "from sklearn.metrics import accuracy_score\n",
    "from sklearn.preprocessing import LabelEncoder\n",
    "from sklearn.preprocessing import OneHotEncoder\n",
    "from sklearn.ensemble import RandomForestRegressor\n",
    "from sklearn.compose import ColumnTransformer\n",
    "from sklearn.model_selection import KFold\n",
    "from sklearn.preprocessing import MinMaxScaler\n",
    "from sklearn.model_selection import cross_val_score\n",
    "from sklearn.preprocessing import StandardScaler"
   ]
  },
  {
   "cell_type": "code",
   "execution_count": 8,
   "metadata": {},
   "outputs": [
    {
     "name": "stderr",
     "output_type": "stream",
     "text": [
      "c:\\python27\\lib\\site-packages\\ipykernel_launcher.py:22: SettingWithCopyWarning: \n",
      "A value is trying to be set on a copy of a slice from a DataFrame.\n",
      "Try using .loc[row_indexer,col_indexer] = value instead\n",
      "\n",
      "See the caveats in the documentation: http://pandas.pydata.org/pandas-docs/stable/indexing.html#indexing-view-versus-copy\n",
      "c:\\python27\\lib\\site-packages\\ipykernel_launcher.py:26: SettingWithCopyWarning: \n",
      "A value is trying to be set on a copy of a slice from a DataFrame.\n",
      "Try using .loc[row_indexer,col_indexer] = value instead\n",
      "\n",
      "See the caveats in the documentation: http://pandas.pydata.org/pandas-docs/stable/indexing.html#indexing-view-versus-copy\n"
     ]
    },
    {
     "name": "stdout",
     "output_type": "stream",
     "text": [
      "0.3601765983446321\n"
     ]
    }
   ],
   "source": [
    "df = pd.read_csv('note.csv')\n",
    "df = df.reset_index()\n",
    "#df = df.head(1600)\n",
    "\n",
    "X = df[['media la admitere','nota la limba romana']]\n",
    "Y = df['romana final']      \n",
    "#X.head()\n",
    "\n",
    "# def firstname(name):\n",
    "#     fullname_list = name.split(\" \")\n",
    "#     return fullname_list[len(fullname_list)-1]\n",
    "\n",
    "# X['nume'] = X['nume'].apply(firstname)\n",
    "\n",
    "\n",
    "\n",
    "\n",
    "number_columns = []\n",
    "for col in X.columns:\n",
    "    if X[col].dtype != 'object':\n",
    "        number_columns.append(col)\n",
    "        X[col] = X[col].astype(float)\n",
    "\n",
    "\n",
    "scaler = StandardScaler()\n",
    "X[number_columns] = scaler.fit_transform(X[number_columns])\n",
    "X.head()\n",
    "\n",
    "\n",
    "\n",
    "\n",
    "categorical_features = []\n",
    "categorical_features_indices = []\n",
    "for i,c in enumerate(X.columns):\n",
    "        if X[c].dtype == 'object':\n",
    "            categorical_features.append(c)\n",
    "            categorical_features_indices.append(i)      \n",
    "categorical_features\n",
    "\n",
    "\n",
    "#dummy variables\n",
    "X = pd.get_dummies(X, columns=categorical_features)\n",
    "X.head()\n",
    "\n",
    "X_train, X_test, Y_train, Y_test = train_test_split(X, Y, test_size=0.20, random_state = 40) #same seed to compare results\n",
    "\n",
    "\n",
    "model = RandomForestRegressor(n_jobs=-1, n_estimators=100)\n",
    "model.fit(X_train, Y_train.ravel())\n",
    "print model.score(X_test, Y_test)"
   ]
  },
  {
   "cell_type": "code",
   "execution_count": 9,
   "metadata": {},
   "outputs": [
    {
     "data": {
      "text/plain": [
       "[('media la admitere', 0.68431), ('nota la limba romana', 0.31569)]"
      ]
     },
     "execution_count": 9,
     "metadata": {},
     "output_type": "execute_result"
    }
   ],
   "source": [
    "feature_list = X.columns\n",
    "\n",
    "# Get numerical feature importances\n",
    "importances = list(model.feature_importances_)\n",
    "# List of tuples with variable and importance\n",
    "feature_importances = [(feature, round(importance, 5)) for feature, importance in zip(feature_list, importances)]\n",
    "# Sort the feature importances by most important first\n",
    "feature_importances = sorted(feature_importances, key = lambda x: x[1], reverse = True)\n",
    "# Print out the feature and importances \n",
    "feature_importances"
   ]
  },
  {
   "cell_type": "code",
   "execution_count": null,
   "metadata": {},
   "outputs": [],
   "source": []
  }
 ],
 "metadata": {
  "kernelspec": {
   "display_name": "Python 2",
   "language": "python",
   "name": "python2"
  },
  "language_info": {
   "codemirror_mode": {
    "name": "ipython",
    "version": 2
   },
   "file_extension": ".py",
   "mimetype": "text/x-python",
   "name": "python",
   "nbconvert_exporter": "python",
   "pygments_lexer": "ipython2",
   "version": "2.7.15"
  }
 },
 "nbformat": 4,
 "nbformat_minor": 2
}
