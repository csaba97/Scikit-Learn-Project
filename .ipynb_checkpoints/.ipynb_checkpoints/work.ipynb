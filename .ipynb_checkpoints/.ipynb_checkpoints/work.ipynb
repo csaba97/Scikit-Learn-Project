{
 "cells": [
  {
   "cell_type": "code",
   "execution_count": 1,
   "metadata": {},
   "outputs": [],
   "source": [
    "import numpy as np\n",
    "import pandas as pd\n",
    "import matplotlib.pyplot as plt\n",
    "import seaborn as sns\n",
    "from sklearn.linear_model import LinearRegression\n",
    "from sklearn.model_selection import train_test_split\n",
    "from sklearn.preprocessing import LabelEncoder, OneHotEncoder\n",
    "from sklearn.metrics import mean_squared_error\n",
    "from sklearn.metrics import accuracy_score"
   ]
  },
  {
   "cell_type": "code",
   "execution_count": 2,
   "metadata": {},
   "outputs": [],
   "source": [
    "df = pd.read_csv('note.csv')"
   ]
  },
  {
   "cell_type": "code",
   "execution_count": 3,
   "metadata": {},
   "outputs": [
    {
     "data": {
      "text/plain": [
       "(10666, 41)"
      ]
     },
     "execution_count": 3,
     "metadata": {},
     "output_type": "execute_result"
    }
   ],
   "source": [
    "df.shape"
   ]
  },
  {
   "cell_type": "code",
   "execution_count": 4,
   "metadata": {},
   "outputs": [
    {
     "data": {
      "text/plain": [
       "Index([u'nume', u'judet', u'scoala', u'media la admitere',\n",
       "       u'media teze nationale', u'media de absolvire',\n",
       "       u' nota la limba romana', u'nota la matematica', u'optional8',\n",
       "       u'optional8 nota', u'limba materna8', u'limba materna8 nota ',\n",
       "       u'pozitia in ierarhie pe judet', u'pozitia in ierarhie pe tara',\n",
       "       u'unitatea de invatamant', u'judetul', u'promotie anterioara',\n",
       "       u'forma invatamant', u'specializare', u'romana oral', u'romana nota',\n",
       "       u'romana contestatie', u'romana final', u'limba materna',\n",
       "       u'materna oral', u'materna nota', u'materna contestatie',\n",
       "       u'materna final', u'limba moderna', u'limba moderna nota',\n",
       "       u'disciplina profil', u'disciplina profil nota',\n",
       "       u'disciplina profil contestatie', u'disciplina profil final',\n",
       "       u'optional', u'optional nota', u'optional contestatie',\n",
       "       u'optional final', u'competente digitale', u'media',\n",
       "       u'rezultatul final'],\n",
       "      dtype='object')"
      ]
     },
     "execution_count": 4,
     "metadata": {},
     "output_type": "execute_result"
    }
   ],
   "source": [
    "df.keys()"
   ]
  },
  {
   "cell_type": "code",
   "execution_count": 8,
   "metadata": {},
   "outputs": [
    {
     "data": {
      "text/plain": [
       "232"
      ]
     },
     "execution_count": 8,
     "metadata": {},
     "output_type": "execute_result"
    }
   ],
   "source": [
    "sum(df['nume'].duplicated())"
   ]
  },
  {
   "cell_type": "code",
   "execution_count": 10,
   "metadata": {},
   "outputs": [],
   "source": [
    "df.drop_duplicates(subset='nume', keep=False, inplace=True)\n"
   ]
  },
  {
   "cell_type": "code",
   "execution_count": 11,
   "metadata": {},
   "outputs": [
    {
     "data": {
      "text/plain": [
       "(10247, 41)"
      ]
     },
     "execution_count": 11,
     "metadata": {},
     "output_type": "execute_result"
    }
   ],
   "source": [
    "df.shape"
   ]
  },
  {
   "cell_type": "code",
   "execution_count": 12,
   "metadata": {},
   "outputs": [
    {
     "data": {
      "text/plain": [
       "0"
      ]
     },
     "execution_count": 12,
     "metadata": {},
     "output_type": "execute_result"
    }
   ],
   "source": [
    "sum(df['nume'].duplicated())"
   ]
  },
  {
   "cell_type": "code",
   "execution_count": 13,
   "metadata": {},
   "outputs": [
    {
     "data": {
      "text/plain": [
       "nume                                 0\n",
       "judet                                0\n",
       "scoala                               0\n",
       "media la admitere                   10\n",
       "media teze nationale                 0\n",
       "media de absolvire                   0\n",
       " nota la limba romana                0\n",
       "nota la matematica                   0\n",
       "optional8                            0\n",
       "optional8 nota                       0\n",
       "limba materna8                       0\n",
       "limba materna8 nota                  0\n",
       "pozitia in ierarhie pe judet         0\n",
       "pozitia in ierarhie pe tara          0\n",
       "unitatea de invatamant               0\n",
       "judetul                              0\n",
       "promotie anterioara                  0\n",
       "forma invatamant                     0\n",
       "specializare                         0\n",
       "romana oral                         38\n",
       "romana nota                          0\n",
       "romana contestatie                9137\n",
       "romana final                         0\n",
       "limba materna                     9303\n",
       "materna oral                      9304\n",
       "materna nota                      9303\n",
       "materna contestatie              10183\n",
       "materna final                     9303\n",
       "limba moderna                        0\n",
       "limba moderna nota                1061\n",
       "disciplina profil                    0\n",
       "disciplina profil nota               0\n",
       "disciplina profil contestatie     9042\n",
       "disciplina profil final              0\n",
       "optional                             0\n",
       "optional nota                        0\n",
       "optional contestatie              9495\n",
       "optional final                       0\n",
       "competente digitale                 53\n",
       "media                                0\n",
       "rezultatul final                     0\n",
       "dtype: int64"
      ]
     },
     "execution_count": 13,
     "metadata": {},
     "output_type": "execute_result"
    }
   ],
   "source": [
    "df.isna().sum()"
   ]
  },
  {
   "cell_type": "code",
   "execution_count": 14,
   "metadata": {},
   "outputs": [],
   "source": [
    "df.dropna(subset=['media la admitere'], how='all', inplace = True)"
   ]
  },
  {
   "cell_type": "code",
   "execution_count": 15,
   "metadata": {},
   "outputs": [
    {
     "data": {
      "text/plain": [
       "nume                                 0\n",
       "judet                                0\n",
       "scoala                               0\n",
       "media la admitere                    0\n",
       "media teze nationale                 0\n",
       "media de absolvire                   0\n",
       " nota la limba romana                0\n",
       "nota la matematica                   0\n",
       "optional8                            0\n",
       "optional8 nota                       0\n",
       "limba materna8                       0\n",
       "limba materna8 nota                  0\n",
       "pozitia in ierarhie pe judet         0\n",
       "pozitia in ierarhie pe tara          0\n",
       "unitatea de invatamant               0\n",
       "judetul                              0\n",
       "promotie anterioara                  0\n",
       "forma invatamant                     0\n",
       "specializare                         0\n",
       "romana oral                         38\n",
       "romana nota                          0\n",
       "romana contestatie                9129\n",
       "romana final                         0\n",
       "limba materna                     9293\n",
       "materna oral                      9294\n",
       "materna nota                      9293\n",
       "materna contestatie              10173\n",
       "materna final                     9293\n",
       "limba moderna                        0\n",
       "limba moderna nota                1061\n",
       "disciplina profil                    0\n",
       "disciplina profil nota               0\n",
       "disciplina profil contestatie     9032\n",
       "disciplina profil final              0\n",
       "optional                             0\n",
       "optional nota                        0\n",
       "optional contestatie              9486\n",
       "optional final                       0\n",
       "competente digitale                 53\n",
       "media                                0\n",
       "rezultatul final                     0\n",
       "dtype: int64"
      ]
     },
     "execution_count": 15,
     "metadata": {},
     "output_type": "execute_result"
    }
   ],
   "source": [
    "df.isna().sum()"
   ]
  },
  {
   "cell_type": "code",
   "execution_count": 16,
   "metadata": {},
   "outputs": [
    {
     "data": {
      "text/plain": [
       "(10237, 41)"
      ]
     },
     "execution_count": 16,
     "metadata": {},
     "output_type": "execute_result"
    }
   ],
   "source": [
    "df.shape"
   ]
  },
  {
   "cell_type": "code",
   "execution_count": null,
   "metadata": {},
   "outputs": [],
   "source": []
  }
 ],
 "metadata": {
  "kernelspec": {
   "display_name": "Python 2",
   "language": "python",
   "name": "python2"
  },
  "language_info": {
   "codemirror_mode": {
    "name": "ipython",
    "version": 2
   },
   "file_extension": ".py",
   "mimetype": "text/x-python",
   "name": "python",
   "nbconvert_exporter": "python",
   "pygments_lexer": "ipython2",
   "version": "2.7.15"
  }
 },
 "nbformat": 4,
 "nbformat_minor": 2
}
