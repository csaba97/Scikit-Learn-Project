{
 "cells": [
  {
   "cell_type": "code",
   "execution_count": 1,
   "metadata": {},
   "outputs": [],
   "source": [
    "import numpy as np\n",
    "import pandas as pd\n",
    "import matplotlib.pyplot as plt\n",
    "import seaborn as sns\n",
    "from sklearn.linear_model import LinearRegression\n",
    "from sklearn.model_selection import train_test_split\n",
    "from sklearn.preprocessing import LabelEncoder, OneHotEncoder\n",
    "from sklearn.metrics import mean_squared_error\n",
    "from sklearn.metrics import mean_absolute_error\n",
    "from sklearn.metrics import accuracy_score"
   ]
  },
  {
   "cell_type": "code",
   "execution_count": 14,
   "metadata": {},
   "outputs": [],
   "source": [
    "df = pd.read_csv('note.csv')\n",
    "df = df.reset_index()"
   ]
  },
  {
   "cell_type": "code",
   "execution_count": 3,
   "metadata": {},
   "outputs": [
    {
     "data": {
      "text/plain": [
       "Index([u'nume', u'judet8', u'scoala', u'media la admitere',\n",
       "       u'media teze nationale', u'media de absolvire', u'nota la limba romana',\n",
       "       u'nota la matematica', u'optional8', u'optional8 nota',\n",
       "       u'limba materna8', u'limba materna8 nota',\n",
       "       u'pozitia in ierarhie pe judet', u'pozitia in ierarhie pe tara',\n",
       "       u'unitatea de invatamant', u'judetul', u'promotie anterioara',\n",
       "       u'forma invatamant', u'specializare', u'romana oral', u'romana nota',\n",
       "       u'romana contestatie', u'romana final', u'limba materna',\n",
       "       u'materna oral', u'materna nota', u'materna contestatie',\n",
       "       u'materna final', u'limba moderna', u'limba moderna nota',\n",
       "       u'disciplina profil', u'disciplina profil nota',\n",
       "       u'disciplina profil contestatie', u'disciplina profil final',\n",
       "       u'optional', u'optional nota', u'optional contestatie',\n",
       "       u'optional final', u'competente digitale', u'media',\n",
       "       u'rezultatul final'],\n",
       "      dtype='object')"
      ]
     },
     "execution_count": 3,
     "metadata": {},
     "output_type": "execute_result"
    }
   ],
   "source": [
    "df.keys()"
   ]
  },
  {
   "cell_type": "code",
   "execution_count": 4,
   "metadata": {},
   "outputs": [
    {
     "data": {
      "text/plain": [
       "(10172, 41)"
      ]
     },
     "execution_count": 4,
     "metadata": {},
     "output_type": "execute_result"
    }
   ],
   "source": [
    "df.shape"
   ]
  },
  {
   "cell_type": "code",
   "execution_count": 5,
   "metadata": {},
   "outputs": [
    {
     "data": {
      "text/html": [
       "<div>\n",
       "<style scoped>\n",
       "    .dataframe tbody tr th:only-of-type {\n",
       "        vertical-align: middle;\n",
       "    }\n",
       "\n",
       "    .dataframe tbody tr th {\n",
       "        vertical-align: top;\n",
       "    }\n",
       "\n",
       "    .dataframe thead th {\n",
       "        text-align: right;\n",
       "    }\n",
       "</style>\n",
       "<table border=\"1\" class=\"dataframe\">\n",
       "  <thead>\n",
       "    <tr style=\"text-align: right;\">\n",
       "      <th></th>\n",
       "      <th>nume</th>\n",
       "      <th>judet8</th>\n",
       "      <th>scoala</th>\n",
       "      <th>media la admitere</th>\n",
       "      <th>media teze nationale</th>\n",
       "      <th>media de absolvire</th>\n",
       "      <th>nota la limba romana</th>\n",
       "      <th>nota la matematica</th>\n",
       "      <th>optional8</th>\n",
       "      <th>optional8 nota</th>\n",
       "      <th>...</th>\n",
       "      <th>disciplina profil nota</th>\n",
       "      <th>disciplina profil contestatie</th>\n",
       "      <th>disciplina profil final</th>\n",
       "      <th>optional</th>\n",
       "      <th>optional nota</th>\n",
       "      <th>optional contestatie</th>\n",
       "      <th>optional final</th>\n",
       "      <th>competente digitale</th>\n",
       "      <th>media</th>\n",
       "      <th>rezultatul final</th>\n",
       "    </tr>\n",
       "  </thead>\n",
       "  <tbody>\n",
       "    <tr>\n",
       "      <th>0</th>\n",
       "      <td>cireap p. florin</td>\n",
       "      <td>BIHOR</td>\n",
       "      <td>SC.CU CLS.I-VIII PIETROASA</td>\n",
       "      <td>9.32</td>\n",
       "      <td>9.10</td>\n",
       "      <td>9.54</td>\n",
       "      <td>8.17</td>\n",
       "      <td>9.45</td>\n",
       "      <td>Geografie</td>\n",
       "      <td>9.70</td>\n",
       "      <td>...</td>\n",
       "      <td>3.30</td>\n",
       "      <td>NaN</td>\n",
       "      <td>3.30</td>\n",
       "      <td>Anatomie si fiziologie umana, genetica si ecol...</td>\n",
       "      <td>6.60</td>\n",
       "      <td>NaN</td>\n",
       "      <td>6.60</td>\n",
       "      <td>Avansat</td>\n",
       "      <td>5.07</td>\n",
       "      <td>Respins</td>\n",
       "    </tr>\n",
       "    <tr>\n",
       "      <th>1</th>\n",
       "      <td>gabor i. ionut darius</td>\n",
       "      <td>BIHOR</td>\n",
       "      <td>SC.CU CLS.I-VIII \"N.POPOVICIU\" BEIUS</td>\n",
       "      <td>9.12</td>\n",
       "      <td>8.63</td>\n",
       "      <td>9.62</td>\n",
       "      <td>8.30</td>\n",
       "      <td>8.00</td>\n",
       "      <td>Geografie</td>\n",
       "      <td>9.60</td>\n",
       "      <td>...</td>\n",
       "      <td>1.55</td>\n",
       "      <td>NaN</td>\n",
       "      <td>1.55</td>\n",
       "      <td>Anatomie si fiziologie umana, genetica si ecol...</td>\n",
       "      <td>7.55</td>\n",
       "      <td>NaN</td>\n",
       "      <td>7.55</td>\n",
       "      <td>Mediu</td>\n",
       "      <td>5.60</td>\n",
       "      <td>Respins</td>\n",
       "    </tr>\n",
       "    <tr>\n",
       "      <th>2</th>\n",
       "      <td>bogan s. sebastian doru</td>\n",
       "      <td>BIHOR</td>\n",
       "      <td>SC.CU CLS.I-VIII CALUGARI</td>\n",
       "      <td>8.71</td>\n",
       "      <td>7.90</td>\n",
       "      <td>9.52</td>\n",
       "      <td>7.62</td>\n",
       "      <td>6.97</td>\n",
       "      <td>Geografie</td>\n",
       "      <td>9.10</td>\n",
       "      <td>...</td>\n",
       "      <td>2.80</td>\n",
       "      <td>2.3</td>\n",
       "      <td>2.30</td>\n",
       "      <td>Anatomie si fiziologie umana, genetica si ecol...</td>\n",
       "      <td>6.70</td>\n",
       "      <td>NaN</td>\n",
       "      <td>6.70</td>\n",
       "      <td>Mediu</td>\n",
       "      <td>5.40</td>\n",
       "      <td>Respins</td>\n",
       "    </tr>\n",
       "    <tr>\n",
       "      <th>3</th>\n",
       "      <td>apati m. mihai bogdan</td>\n",
       "      <td>BIHOR</td>\n",
       "      <td>SC.CU CLS.I-VIII CARASAU</td>\n",
       "      <td>8.36</td>\n",
       "      <td>8.21</td>\n",
       "      <td>8.51</td>\n",
       "      <td>7.30</td>\n",
       "      <td>7.95</td>\n",
       "      <td>Geografie</td>\n",
       "      <td>9.40</td>\n",
       "      <td>...</td>\n",
       "      <td>3.85</td>\n",
       "      <td>4.2</td>\n",
       "      <td>3.85</td>\n",
       "      <td>Anatomie si fiziologie umana, genetica si ecol...</td>\n",
       "      <td>6.30</td>\n",
       "      <td>NaN</td>\n",
       "      <td>6.30</td>\n",
       "      <td>Mediu</td>\n",
       "      <td>5.05</td>\n",
       "      <td>Respins</td>\n",
       "    </tr>\n",
       "    <tr>\n",
       "      <th>4</th>\n",
       "      <td>filip g. flaviu georgian</td>\n",
       "      <td>BIHOR</td>\n",
       "      <td>LICEUL PEDAGOGIC \"N.BOLCAS\" BEIUS</td>\n",
       "      <td>8.31</td>\n",
       "      <td>7.73</td>\n",
       "      <td>8.89</td>\n",
       "      <td>6.40</td>\n",
       "      <td>8.72</td>\n",
       "      <td>Istorie</td>\n",
       "      <td>8.07</td>\n",
       "      <td>...</td>\n",
       "      <td>3.65</td>\n",
       "      <td>3.4</td>\n",
       "      <td>3.65</td>\n",
       "      <td>Anatomie si fiziologie umana, genetica si ecol...</td>\n",
       "      <td>8.60</td>\n",
       "      <td>NaN</td>\n",
       "      <td>8.60</td>\n",
       "      <td>Avansat</td>\n",
       "      <td>6.40</td>\n",
       "      <td>Respins</td>\n",
       "    </tr>\n",
       "  </tbody>\n",
       "</table>\n",
       "<p>5 rows × 41 columns</p>\n",
       "</div>"
      ],
      "text/plain": [
       "                       nume judet8                                scoala  \\\n",
       "0          cireap p. florin  BIHOR            SC.CU CLS.I-VIII PIETROASA   \n",
       "1     gabor i. ionut darius  BIHOR  SC.CU CLS.I-VIII \"N.POPOVICIU\" BEIUS   \n",
       "2   bogan s. sebastian doru  BIHOR             SC.CU CLS.I-VIII CALUGARI   \n",
       "3     apati m. mihai bogdan  BIHOR              SC.CU CLS.I-VIII CARASAU   \n",
       "4  filip g. flaviu georgian  BIHOR     LICEUL PEDAGOGIC \"N.BOLCAS\" BEIUS   \n",
       "\n",
       "   media la admitere  media teze nationale  media de absolvire  \\\n",
       "0               9.32                  9.10                9.54   \n",
       "1               9.12                  8.63                9.62   \n",
       "2               8.71                  7.90                9.52   \n",
       "3               8.36                  8.21                8.51   \n",
       "4               8.31                  7.73                8.89   \n",
       "\n",
       "   nota la limba romana  nota la matematica  optional8  optional8 nota  ...  \\\n",
       "0                  8.17                9.45  Geografie            9.70  ...   \n",
       "1                  8.30                8.00  Geografie            9.60  ...   \n",
       "2                  7.62                6.97  Geografie            9.10  ...   \n",
       "3                  7.30                7.95  Geografie            9.40  ...   \n",
       "4                  6.40                8.72    Istorie            8.07  ...   \n",
       "\n",
       "  disciplina profil nota disciplina profil contestatie  \\\n",
       "0                   3.30                           NaN   \n",
       "1                   1.55                           NaN   \n",
       "2                   2.80                           2.3   \n",
       "3                   3.85                           4.2   \n",
       "4                   3.65                           3.4   \n",
       "\n",
       "   disciplina profil final                                           optional  \\\n",
       "0                     3.30  Anatomie si fiziologie umana, genetica si ecol...   \n",
       "1                     1.55  Anatomie si fiziologie umana, genetica si ecol...   \n",
       "2                     2.30  Anatomie si fiziologie umana, genetica si ecol...   \n",
       "3                     3.85  Anatomie si fiziologie umana, genetica si ecol...   \n",
       "4                     3.65  Anatomie si fiziologie umana, genetica si ecol...   \n",
       "\n",
       "  optional nota optional contestatie optional final competente digitale media  \\\n",
       "0          6.60                  NaN           6.60             Avansat  5.07   \n",
       "1          7.55                  NaN           7.55               Mediu  5.60   \n",
       "2          6.70                  NaN           6.70               Mediu  5.40   \n",
       "3          6.30                  NaN           6.30               Mediu  5.05   \n",
       "4          8.60                  NaN           8.60             Avansat  6.40   \n",
       "\n",
       "  rezultatul final  \n",
       "0          Respins  \n",
       "1          Respins  \n",
       "2          Respins  \n",
       "3          Respins  \n",
       "4          Respins  \n",
       "\n",
       "[5 rows x 41 columns]"
      ]
     },
     "execution_count": 5,
     "metadata": {},
     "output_type": "execute_result"
    }
   ],
   "source": [
    "df.head()"
   ]
  },
  {
   "cell_type": "code",
   "execution_count": 6,
   "metadata": {},
   "outputs": [
    {
     "data": {
      "text/plain": [
       "0        5.30\n",
       "1        7.70\n",
       "2        7.20\n",
       "3        5.00\n",
       "4        6.95\n",
       "5        3.80\n",
       "6        5.00\n",
       "7        6.20\n",
       "8        7.10\n",
       "9        6.60\n",
       "10       5.00\n",
       "11       5.70\n",
       "12       3.95\n",
       "13       7.50\n",
       "14       5.00\n",
       "15       5.00\n",
       "16       6.20\n",
       "17       5.10\n",
       "18       2.40\n",
       "19       6.00\n",
       "20       5.00\n",
       "21       3.25\n",
       "22       5.00\n",
       "23       3.80\n",
       "24       6.50\n",
       "25       7.75\n",
       "26       6.45\n",
       "27       7.50\n",
       "28       5.00\n",
       "29       3.80\n",
       "         ... \n",
       "10142    9.40\n",
       "10143    7.45\n",
       "10144    8.65\n",
       "10145    8.00\n",
       "10146    6.50\n",
       "10147    9.60\n",
       "10148    7.90\n",
       "10149    9.10\n",
       "10150    6.85\n",
       "10151    6.15\n",
       "10152    5.00\n",
       "10153    5.10\n",
       "10154    8.40\n",
       "10155    8.55\n",
       "10156    9.75\n",
       "10157    8.85\n",
       "10158    5.70\n",
       "10159    6.00\n",
       "10160    7.20\n",
       "10161    3.50\n",
       "10162    8.00\n",
       "10163    9.50\n",
       "10164    8.00\n",
       "10165    8.60\n",
       "10166    9.20\n",
       "10167    8.85\n",
       "10168    7.55\n",
       "10169    5.05\n",
       "10170    7.10\n",
       "10171    9.40\n",
       "Name: romana final, Length: 10172, dtype: float64"
      ]
     },
     "execution_count": 6,
     "metadata": {},
     "output_type": "execute_result"
    }
   ],
   "source": [
    "df['romana final']"
   ]
  },
  {
   "cell_type": "code",
   "execution_count": 7,
   "metadata": {},
   "outputs": [
    {
     "data": {
      "text/plain": [
       "0         8.17\n",
       "1         8.30\n",
       "2         7.62\n",
       "3         7.30\n",
       "4         6.40\n",
       "5         5.35\n",
       "6         5.05\n",
       "7         6.50\n",
       "8         7.20\n",
       "9         7.70\n",
       "10        6.55\n",
       "11        5.05\n",
       "12        7.07\n",
       "13        4.50\n",
       "14        5.85\n",
       "15        6.55\n",
       "16        6.00\n",
       "17        5.42\n",
       "18        6.40\n",
       "19        5.55\n",
       "20        5.52\n",
       "21        6.35\n",
       "22        6.05\n",
       "23        4.80\n",
       "24        6.60\n",
       "25        6.72\n",
       "26        7.90\n",
       "27        7.50\n",
       "28        5.90\n",
       "29        6.17\n",
       "         ...  \n",
       "10142    10.00\n",
       "10143     9.55\n",
       "10144     9.30\n",
       "10145     9.80\n",
       "10146     8.40\n",
       "10147     7.55\n",
       "10148     7.87\n",
       "10149     7.92\n",
       "10150     8.15\n",
       "10151     6.97\n",
       "10152     6.62\n",
       "10153     4.02\n",
       "10154     9.35\n",
       "10155     8.95\n",
       "10156     9.10\n",
       "10157     8.75\n",
       "10158     8.35\n",
       "10159     8.82\n",
       "10160     8.75\n",
       "10161     8.50\n",
       "10162     9.15\n",
       "10163     9.45\n",
       "10164     9.10\n",
       "10165     8.02\n",
       "10166     9.00\n",
       "10167     7.12\n",
       "10168     7.20\n",
       "10169     8.15\n",
       "10170     8.35\n",
       "10171     8.45\n",
       "Name: nota la limba romana, Length: 10172, dtype: float64"
      ]
     },
     "execution_count": 7,
     "metadata": {},
     "output_type": "execute_result"
    }
   ],
   "source": [
    "df['nota la limba romana']"
   ]
  },
  {
   "cell_type": "code",
   "execution_count": 11,
   "metadata": {},
   "outputs": [],
   "source": [
    "X = df['nota la limba romana'].values.reshape(-1,1)  \n",
    "Y = df['romana final'].values.reshape(-1,1)      "
   ]
  },
  {
   "cell_type": "code",
   "execution_count": 12,
   "metadata": {},
   "outputs": [],
   "source": [
    "X_train, X_test, Y_train, Y_test = train_test_split(X, Y, test_size=0.20) "
   ]
  },
  {
   "cell_type": "code",
   "execution_count": 13,
   "metadata": {},
   "outputs": [
    {
     "ename": "ValueError",
     "evalue": "Input contains NaN, infinity or a value too large for dtype('float64').",
     "output_type": "error",
     "traceback": [
      "\u001b[1;31m---------------------------------------------------------------------------\u001b[0m",
      "\u001b[1;31mValueError\u001b[0m                                Traceback (most recent call last)",
      "\u001b[1;32m<ipython-input-13-6cb8473d714c>\u001b[0m in \u001b[0;36m<module>\u001b[1;34m()\u001b[0m\n\u001b[0;32m      1\u001b[0m \u001b[0mregressor\u001b[0m \u001b[1;33m=\u001b[0m \u001b[0mLinearRegression\u001b[0m\u001b[1;33m(\u001b[0m\u001b[1;33m)\u001b[0m\u001b[1;33m\u001b[0m\u001b[0m\n\u001b[1;32m----> 2\u001b[1;33m \u001b[0mregressor\u001b[0m\u001b[1;33m.\u001b[0m\u001b[0mfit\u001b[0m\u001b[1;33m(\u001b[0m\u001b[0mX_train\u001b[0m\u001b[1;33m,\u001b[0m \u001b[0mY_train\u001b[0m\u001b[1;33m)\u001b[0m \u001b[1;31m#training the algorithm\u001b[0m\u001b[1;33m\u001b[0m\u001b[0m\n\u001b[0m",
      "\u001b[1;32mc:\\python27\\lib\\site-packages\\sklearn\\linear_model\\base.pyc\u001b[0m in \u001b[0;36mfit\u001b[1;34m(self, X, y, sample_weight)\u001b[0m\n\u001b[0;32m    456\u001b[0m         \u001b[0mn_jobs_\u001b[0m \u001b[1;33m=\u001b[0m \u001b[0mself\u001b[0m\u001b[1;33m.\u001b[0m\u001b[0mn_jobs\u001b[0m\u001b[1;33m\u001b[0m\u001b[0m\n\u001b[0;32m    457\u001b[0m         X, y = check_X_y(X, y, accept_sparse=['csr', 'csc', 'coo'],\n\u001b[1;32m--> 458\u001b[1;33m                          y_numeric=True, multi_output=True)\n\u001b[0m\u001b[0;32m    459\u001b[0m \u001b[1;33m\u001b[0m\u001b[0m\n\u001b[0;32m    460\u001b[0m         \u001b[1;32mif\u001b[0m \u001b[0msample_weight\u001b[0m \u001b[1;32mis\u001b[0m \u001b[1;32mnot\u001b[0m \u001b[0mNone\u001b[0m \u001b[1;32mand\u001b[0m \u001b[0mnp\u001b[0m\u001b[1;33m.\u001b[0m\u001b[0matleast_1d\u001b[0m\u001b[1;33m(\u001b[0m\u001b[0msample_weight\u001b[0m\u001b[1;33m)\u001b[0m\u001b[1;33m.\u001b[0m\u001b[0mndim\u001b[0m \u001b[1;33m>\u001b[0m \u001b[1;36m1\u001b[0m\u001b[1;33m:\u001b[0m\u001b[1;33m\u001b[0m\u001b[0m\n",
      "\u001b[1;32mc:\\python27\\lib\\site-packages\\sklearn\\utils\\validation.pyc\u001b[0m in \u001b[0;36mcheck_X_y\u001b[1;34m(X, y, accept_sparse, accept_large_sparse, dtype, order, copy, force_all_finite, ensure_2d, allow_nd, multi_output, ensure_min_samples, ensure_min_features, y_numeric, warn_on_dtype, estimator)\u001b[0m\n\u001b[0;32m    757\u001b[0m     \u001b[1;32mif\u001b[0m \u001b[0mmulti_output\u001b[0m\u001b[1;33m:\u001b[0m\u001b[1;33m\u001b[0m\u001b[0m\n\u001b[0;32m    758\u001b[0m         y = check_array(y, 'csr', force_all_finite=True, ensure_2d=False,\n\u001b[1;32m--> 759\u001b[1;33m                         dtype=None)\n\u001b[0m\u001b[0;32m    760\u001b[0m     \u001b[1;32melse\u001b[0m\u001b[1;33m:\u001b[0m\u001b[1;33m\u001b[0m\u001b[0m\n\u001b[0;32m    761\u001b[0m         \u001b[0my\u001b[0m \u001b[1;33m=\u001b[0m \u001b[0mcolumn_or_1d\u001b[0m\u001b[1;33m(\u001b[0m\u001b[0my\u001b[0m\u001b[1;33m,\u001b[0m \u001b[0mwarn\u001b[0m\u001b[1;33m=\u001b[0m\u001b[0mTrue\u001b[0m\u001b[1;33m)\u001b[0m\u001b[1;33m\u001b[0m\u001b[0m\n",
      "\u001b[1;32mc:\\python27\\lib\\site-packages\\sklearn\\utils\\validation.pyc\u001b[0m in \u001b[0;36mcheck_array\u001b[1;34m(array, accept_sparse, accept_large_sparse, dtype, order, copy, force_all_finite, ensure_2d, allow_nd, ensure_min_samples, ensure_min_features, warn_on_dtype, estimator)\u001b[0m\n\u001b[0;32m    571\u001b[0m         \u001b[1;32mif\u001b[0m \u001b[0mforce_all_finite\u001b[0m\u001b[1;33m:\u001b[0m\u001b[1;33m\u001b[0m\u001b[0m\n\u001b[0;32m    572\u001b[0m             _assert_all_finite(array,\n\u001b[1;32m--> 573\u001b[1;33m                                allow_nan=force_all_finite == 'allow-nan')\n\u001b[0m\u001b[0;32m    574\u001b[0m \u001b[1;33m\u001b[0m\u001b[0m\n\u001b[0;32m    575\u001b[0m     \u001b[0mshape_repr\u001b[0m \u001b[1;33m=\u001b[0m \u001b[0m_shape_repr\u001b[0m\u001b[1;33m(\u001b[0m\u001b[0marray\u001b[0m\u001b[1;33m.\u001b[0m\u001b[0mshape\u001b[0m\u001b[1;33m)\u001b[0m\u001b[1;33m\u001b[0m\u001b[0m\n",
      "\u001b[1;32mc:\\python27\\lib\\site-packages\\sklearn\\utils\\validation.pyc\u001b[0m in \u001b[0;36m_assert_all_finite\u001b[1;34m(X, allow_nan)\u001b[0m\n\u001b[0;32m     54\u001b[0m                 not allow_nan and not np.isfinite(X).all()):\n\u001b[0;32m     55\u001b[0m             \u001b[0mtype_err\u001b[0m \u001b[1;33m=\u001b[0m \u001b[1;34m'infinity'\u001b[0m \u001b[1;32mif\u001b[0m \u001b[0mallow_nan\u001b[0m \u001b[1;32melse\u001b[0m \u001b[1;34m'NaN, infinity'\u001b[0m\u001b[1;33m\u001b[0m\u001b[0m\n\u001b[1;32m---> 56\u001b[1;33m             \u001b[1;32mraise\u001b[0m \u001b[0mValueError\u001b[0m\u001b[1;33m(\u001b[0m\u001b[0mmsg_err\u001b[0m\u001b[1;33m.\u001b[0m\u001b[0mformat\u001b[0m\u001b[1;33m(\u001b[0m\u001b[0mtype_err\u001b[0m\u001b[1;33m,\u001b[0m \u001b[0mX\u001b[0m\u001b[1;33m.\u001b[0m\u001b[0mdtype\u001b[0m\u001b[1;33m)\u001b[0m\u001b[1;33m)\u001b[0m\u001b[1;33m\u001b[0m\u001b[0m\n\u001b[0m\u001b[0;32m     57\u001b[0m \u001b[1;33m\u001b[0m\u001b[0m\n\u001b[0;32m     58\u001b[0m \u001b[1;33m\u001b[0m\u001b[0m\n",
      "\u001b[1;31mValueError\u001b[0m: Input contains NaN, infinity or a value too large for dtype('float64')."
     ]
    }
   ],
   "source": [
    "regressor = LinearRegression()  \n",
    "regressor.fit(X_train, Y_train) #training the algorithm"
   ]
  },
  {
   "cell_type": "code",
   "execution_count": null,
   "metadata": {},
   "outputs": [],
   "source": [
    "Y_pred = regressor.predict(X_test)"
   ]
  },
  {
   "cell_type": "code",
   "execution_count": null,
   "metadata": {},
   "outputs": [],
   "source": [
    "mean_squared_error(Y_test, Y_pred)"
   ]
  },
  {
   "cell_type": "code",
   "execution_count": null,
   "metadata": {},
   "outputs": [],
   "source": [
    "mean_absolute_error(Y_test, Y_pred)"
   ]
  },
  {
   "cell_type": "code",
   "execution_count": null,
   "metadata": {},
   "outputs": [],
   "source": [
    "regressor.score(X_test, Y_test)"
   ]
  },
  {
   "cell_type": "code",
   "execution_count": null,
   "metadata": {},
   "outputs": [],
   "source": [
    "res = pd.DataFrame({'Note evaluare':X_test.ravel(), 'Predicted':Y_pred.flatten(), 'Actual': Y_test.flatten()})\n",
    "res"
   ]
  },
  {
   "cell_type": "code",
   "execution_count": null,
   "metadata": {},
   "outputs": [],
   "source": [
    "#To retrieve the intercept:\n",
    "print(regressor.intercept_)"
   ]
  },
  {
   "cell_type": "code",
   "execution_count": null,
   "metadata": {},
   "outputs": [],
   "source": [
    "\n",
    "\n",
    "\n",
    "\n",
    "\n",
    "\n",
    "\n",
    "\n",
    "#QUESTION\n",
    "\n",
    "#Knowing the intercept and the data in the table, how can we calculate the coefficent?\n",
    "#\n",
    "\n",
    "\n",
    "\n",
    "\n",
    "\n",
    "\n",
    "\n",
    "\n",
    "\n",
    "\n",
    "\n",
    "\n",
    "\n",
    "\n",
    "\n",
    "\n",
    "\n",
    "\n",
    "\n",
    "\n",
    "\n",
    "\n",
    "\n",
    "\n",
    "\n",
    "\n",
    "\n",
    "\n",
    "\n",
    "\n",
    "\n",
    "\n",
    "\n",
    "\n",
    "\n",
    "\n",
    "\n",
    "\n",
    "\n",
    "(res['Predicted']-regressor.intercept_)/res['Note evaluare']"
   ]
  },
  {
   "cell_type": "code",
   "execution_count": null,
   "metadata": {},
   "outputs": [],
   "source": [
    "\n",
    "print(regressor.coef_)"
   ]
  },
  {
   "cell_type": "code",
   "execution_count": null,
   "metadata": {},
   "outputs": [],
   "source": [
    "#####ONLY IF THERE IS TIME\n",
    "\n",
    "\n",
    "\n",
    "avg = df['nota la limba romana'].mean()\n",
    "df['nota la limba romana'] = avg\n",
    "X = df['nota la limba romana'].values.reshape(-1,1)  \n",
    "Y = df['romana final'].values.reshape(-1,1) \n",
    "X_train, X_test, Y_train, Y_test = train_test_split(X, Y, test_size=0.20) \n",
    "regressor = LinearRegression()  \n",
    "regressor.fit(X_train, Y_train) #training the algorithm\n",
    "Y_pred = regressor.predict(X_test)\n"
   ]
  },
  {
   "cell_type": "code",
   "execution_count": null,
   "metadata": {},
   "outputs": [],
   "source": [
    "mean_squared_error(Y_test, Y_pred)"
   ]
  },
  {
   "cell_type": "code",
   "execution_count": null,
   "metadata": {},
   "outputs": [],
   "source": [
    "mean_absolute_error(Y_test, Y_pred)"
   ]
  }
 ],
 "metadata": {
  "kernelspec": {
   "display_name": "Python 2",
   "language": "python",
   "name": "python2"
  },
  "language_info": {
   "codemirror_mode": {
    "name": "ipython",
    "version": 2
   },
   "file_extension": ".py",
   "mimetype": "text/x-python",
   "name": "python",
   "nbconvert_exporter": "python",
   "pygments_lexer": "ipython2",
   "version": "2.7.15"
  }
 },
 "nbformat": 4,
 "nbformat_minor": 2
}
